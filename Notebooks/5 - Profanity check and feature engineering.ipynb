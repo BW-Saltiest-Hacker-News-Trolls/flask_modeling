{
 "cells": [
  {
   "cell_type": "code",
   "execution_count": 1,
   "metadata": {},
   "outputs": [],
   "source": [
    "%%capture\n",
    "\n",
    "# Import libraries.\n",
    "import html\n",
    "import pandas as pd\n",
    "\n",
    "from html.parser import HTMLParser\n",
    "from profanity_check import predict_prob"
   ]
  },
  {
   "cell_type": "code",
   "execution_count": 2,
   "metadata": {},
   "outputs": [],
   "source": [
    "class tag_counter(HTMLParser):\n",
    "    \"\"\"\n",
    "    Helper class for counting HTML tags.\n",
    "    \"\"\"\n",
    "    def __init__(self):\n",
    "        HTMLParser.__init__(self)\n",
    "        self.num_tags = 0\n",
    "    def handle_starttag(self, tag, attrs):\n",
    "        self.num_tags +=1\n",
    "    def count_tags(self, html_text):\n",
    "        self.num_tags = 0\n",
    "        self.feed(html_text)\n",
    "        return self.num_tags\n",
    "\n",
    "parser = tag_counter()"
   ]
  },
  {
   "cell_type": "code",
   "execution_count": 3,
   "metadata": {},
   "outputs": [],
   "source": [
    "# Load primary dataframe.\n",
    "df = pd.read_csv('first_week_oct_2015_comments_by_top_400_with_scores_v3.csv')"
   ]
  },
  {
   "cell_type": "code",
   "execution_count": 4,
   "metadata": {},
   "outputs": [],
   "source": [
    "# Load original html comments from file.\n",
    "html_text =  pd.read_csv('first_week_oct_2015_comments_by_top_400.csv', usecols = ['text'])"
   ]
  },
  {
   "cell_type": "code",
   "execution_count": 5,
   "metadata": {},
   "outputs": [
    {
     "data": {
      "text/html": [
       "<div>\n",
       "<style scoped>\n",
       "    .dataframe tbody tr th:only-of-type {\n",
       "        vertical-align: middle;\n",
       "    }\n",
       "\n",
       "    .dataframe tbody tr th {\n",
       "        vertical-align: top;\n",
       "    }\n",
       "\n",
       "    .dataframe thead th {\n",
       "        text-align: right;\n",
       "    }\n",
       "</style>\n",
       "<table border=\"1\" class=\"dataframe\">\n",
       "  <thead>\n",
       "    <tr style=\"text-align: right;\">\n",
       "      <th></th>\n",
       "      <th>text</th>\n",
       "    </tr>\n",
       "  </thead>\n",
       "  <tbody>\n",
       "    <tr>\n",
       "      <td>0</td>\n",
       "      <td>US is not really scared by BRICS at all. They&amp;...</td>\n",
       "    </tr>\n",
       "    <tr>\n",
       "      <td>1</td>\n",
       "      <td>I wasn&amp;#x27;t really trying to argue, they sai...</td>\n",
       "    </tr>\n",
       "    <tr>\n",
       "      <td>2</td>\n",
       "      <td>The examples on the homepage kind of underscor...</td>\n",
       "    </tr>\n",
       "    <tr>\n",
       "      <td>3</td>\n",
       "      <td>No mention of a critical aspect of a service l...</td>\n",
       "    </tr>\n",
       "    <tr>\n",
       "      <td>4</td>\n",
       "      <td>I think some of these points are gross exagger...</td>\n",
       "    </tr>\n",
       "  </tbody>\n",
       "</table>\n",
       "</div>"
      ],
      "text/plain": [
       "                                                text\n",
       "0  US is not really scared by BRICS at all. They&...\n",
       "1  I wasn&#x27;t really trying to argue, they sai...\n",
       "2  The examples on the homepage kind of underscor...\n",
       "3  No mention of a critical aspect of a service l...\n",
       "4  I think some of these points are gross exagger..."
      ]
     },
     "execution_count": 5,
     "metadata": {},
     "output_type": "execute_result"
    }
   ],
   "source": [
    "# Preview loaded data.\n",
    "html_text.head()"
   ]
  },
  {
   "cell_type": "code",
   "execution_count": 6,
   "metadata": {},
   "outputs": [],
   "source": [
    "# Remove excess whitespace from comment text.\n",
    "df['text'] = df['text'].replace('\\s+', ' ',regex=True)"
   ]
  },
  {
   "cell_type": "code",
   "execution_count": 7,
   "metadata": {},
   "outputs": [],
   "source": [
    "# Add scores from profanity-check to dataframe.\n",
    "df['pc_prob_offensive'] = predict_prob(df['text'])"
   ]
  },
  {
   "cell_type": "code",
   "execution_count": 8,
   "metadata": {},
   "outputs": [
    {
     "name": "stdout",
     "output_type": "stream",
     "text": [
      "commenting on this quote from the article: \"‘I’m 29. This is what you do when you’re 29\" I don't know what the fuck is it with this wall street culture. I find SV culture banal and disgusting but no where close to the shit show that is the wall street glamorized by movies and tv shows. I would've done the same and I have done the same when I was 25. Working like crazy. You realize one day, this is bullshit. Everyone in this shitty place is fucking bullshit. A check at the end of the fucking month that translates into a measely minimum wage if you count the long hours and the office male bravado bullshit. High school never ends. It's only after I was chewed and spit out, I realized, no amount of glamor or prestige is worth chasing if there's no chance at MY happiness and MY health. This make it till you are 30 mentality bullshit has got to go. The anxiety it gives a person in early to mid 20s to feel like you need to keep moving to feel like you are moving closer to success. Lot of young men like ourselves are conditioned to believe that giving up a decade of our youth to live like kings and gods the rest of our lives is a pretty seductive thought, no matter how unlikely the chances, society almost expects young men to behave and perform like robots, showing no emotion, just take it and bring home the bacon. These days, I'm a bit older and beginning to think, good things, like all other things, take time. This kamikaze rags to riches type of mentality we see in movies, doesn't seem to work very well (you burn out quickly). This quote from Frank Lopez in Scarface rings true here. \"Hey, Tony. Remember when I told you when you first started working for me, the guys that last in this business, are the guys who fly straight. Low-key, quiet. But the guys who want it all, chicas, champagne, flash... they don't last. \" Don't think I want to be part of any work culture where shitty cocaine mixed in some shithole in colombia and commiting adultery with overpriced hookers with plastic boobs . \n",
      "\n",
      "Bald and Fat is what I am. 6\" 1\" 230 pounds and I am bald like Cpt Picard since I was 25. Nerd has a negative connotation as opposed to Geek. I know seems weird but getting called nerd was very negative before Geek/Nerd was cool. Definition: 1. a stupid, irritating, ineffectual, or unattractive person. 2. an intelligent but single-minded person obsessed with a nonsocial hobby or pursuit: a computer nerd. [1] http://dictionary.reference.com/browse/nerd?r=75&src=ref&ch=... \n",
      "\n",
      "The core problem with reddit is there's no firewall between communities. So the fact that there are communities specifically set up with the goal of hating blacks or fat people or women or what-have-you means that those people spend a lot of time on reddit and end up spilling over into other popular communities. The moderation tools and admin support on reddit are comparatively underpowered so for a lot of popular sub-reddits it's very easy for the overall quality to plummet when a tiny group of vocal assholes decides they want to squat there. And for most sub-reddits this just starts a spiral of death as good people decide not to waste their time wading through toxic garbage and just find somewhere else to be, while the toxic minority gets stronger and more brazen. Imagine you have several subscriptions to a bunch of different print magazines. Every couple days a new magazine shows up. Stuff like Scientific American, The Economist, Better Homes and Gardens, National Geographic, TV Guide, Rolling Stone, Cat Fancy, etc. All fine and good. Except sometimes, maybe once every quarter per magazine, maybe less often even, there's some really weird stuff in your magazines. There's a 10 page article praising the KKK in your copy of Rolling Stone. Or there's a thing about how the jews did 9/11. Or the ads in Cat Fancy are all relentlessly making fun of fat people. Or there's an insert in the October edition of Scientific American that's actually a personal letter to you that is filled with hate and vitriol and ends with a plea for you to commit suicide. Who would put up with that? They wouldn't. But that's what people have been asked to deal with on sites like reddit, and it's beyond a reasonable level. How much shit is acceptable in your drinking water? Just a tiny bit? How about just 1 hour a year where the tap pours out 50/50 shit & water? Is that acceptable? No, it's not. There's far too much shit in the drinking water at reddit, the fact that the drinking water is not, in fact, mostly shit is not a defense. \n",
      "\n",
      "The majority of people have children. Sucks for you, but I'd rather it suck for you and the rest of the few asshole asocial hermits, than suck for all of us. Though if you like money so much, maybe we could pass in a law that you can trade in your fertility for a tax cut. \n",
      "\n",
      "Fwiw: I paid accident claims for over five years. Most claims fell into one of two categories: \"accident waiting to happen\" or people trying to get coverage for things like the chiropractic care they were going to get three times a week anyway. Only a tiny portion of claims really struck me as shit happens/man, it sucks to be you. If you really want low health bills: Do all that boring stuff you constantly read about, like brush, floss, eat right, exercise, and only drink in moderation. Do not ever get rip roaring drunk. Especially do not drive or engage in other dangerous activities while drunk or high. Don't sleep around casually. Don't ride a motor cycle. If you want to go hiking in the mountains, take the appropriate precautions and do not drink or do drugs. A lot of claims will not be covered anyway if you were drinking, taking drugs or engaging in risky behavior (parachuting, mountain climbing). And keep in mind that insurance only protects against financial loss, and only to a limited degree. If you permanently maim yourself doing stupid crap, you will not only be stuck with high medical bills and reduced odds of making a good income thereafter, you are also permanently maimed, duh. Living with chronic pain and other issues of that ilk still sucks majorly, even if you win the lottery and are set for life financially. /boring old fogey \n",
      "\n",
      "I think it was when I stopped making excuses for my grandfather and started admitting he is a racist, lecherous, inconsiderate asshole (promoted by all the stores the other old folk would reminisce over him being exactly that his entire life, like it's all just a lark), that I stopped seeing old people as \"otherly\". Being \"set in your ways\" is not endearing, and certainly not acceptable. \"It was a different time\" is bullshit. No, it wasn't. There is no demarcation line between now and then. There weren't any different issues, everyone had the same problems. We are all products of the same past. Time is continuous. Playing this game of \"you get a pass because you're gonna die soon anyway\" is infecting future generations with the idea that we can tolerate intolerance if the intolerant person is particularly stubborn enough. Barring straight up senility, the persons your elders are now we're the people they've always been. If they don't get technology today, it's because they have always been unable to easily learn new things. If they say racist shit today, it's because they lived through the civil rights movement of the 60s-- as well as all of the other movements we've gotten to live through ourselves--and said \"yep, that's not for me\". If they act like your opinion can't possibly be right or important, it is because they were always a sociopath. Age doesn't make you an asshole. If anything, I've seen it mellow people out. You will be you, just slower. \n",
      "\n",
      "There are lab rats (whose hormones/genetics have been fucked with) that can literally die of starvation while remaining nearly spherical with excess fat. When their food is removed, their bodies ignore the stored fat and strictly cannibalize muscle and other tissues until the rat dies. Being fat is much more complicated than calories in minus calories burned. \n",
      "\n",
      "> These threads always fucking suck on HN. Please don't post things like that to HN. They only make threads suck worse. \n",
      "\n",
      "Some people can put up with constantly being called an idiot/retard/moron/whatever. Others don't want to or can't. Should we exclude the latter? \n",
      "\n",
      "I think many comments like this are missing the point. You don't get a \"Haskell/C/Java/Lisp validator\". You have a compiler, which will flag obvious crap as crap. The possibly crap stuff are flagged as warnings. And then you have a linter when you want your crap to smell slightly better. But the point is that obviously wrong stuff on the web should give you errors, not a vaguely working page, sometimes, in some browser version. \n",
      "\n",
      "None of those who are complaining about the monument of shit being erected outside of town is actually an erector of monuments made of shit. Typically, their complaints are about the ugly appearance and smell. Only one side is constructive. \n",
      "\n",
      "No its not. There is no constructive criticism in that comment, it was 100% abusive. And what did you gain by calling someone a \"retard\"? The entire reason for saying that was to make the commenter look good by making someone else look bad. Torvalds, ironically, doesn't encourage this sort of thing. Unfortunately, he is also an offender - the \"shut the fuck up Mauro\" incident comes to mind. \n",
      "\n",
      "It would be terrible if photogenic, attractive and likeable people went to jail for the same amount of time as an ugly asshole who isn't part of our tribe. If that happened, we'd have a relatable human face going to jail. \n",
      "\n",
      "A. Single user systems are not the same as server systems, and plenty of single user systems have had the equivalent of /usr/local as writable. If you want to argue this security is worth it, that's a different argument. I suspect most people who just want to get shit done are going to find it a huge pain in the ass. You can also argue these people are stupid. As for standards, vendors follow FHS and friends exactly as far as it helps them justify whatever they want to do. If you really want to argue from the perspective that \"this is standard and that's the reason it's done\", that seems awfully silly to me given the layout and other permissions of apple systems. It's pretty non-FHS/etc to have /Applications be writable, for example. B. let's be clear: there is outrage no matter what is changed and why, and the argument is always \"it is inappropriate and dumb\". So this statement is fairly independent of this change. \n",
      "\n",
      "> Go do some fucking legwork, asshole We've banned this account. You can't do this here. \n",
      "\n",
      "They are making big cash FOR those above them. The attitude of those above is \"fuck the slaves\"- even if these \"slaves\" make far more than the average American... So these firms don't care. Wall Street is cancer. \n",
      "\n",
      ">publicly shaming fat people is violent speech. I don't dig generic jabs at fat people since it's in bad taste (calling out fat people that try to say being fat is healthy is another thing entirely) but I'm not sure how it's \"violent\". To go off on a bit of a tangent: Don't get me wrong, I know the power words have since I was bullied for several years. I also understand how much of a struggle weight loss can be. But part of the reason that those words are so powerfully negative for a fat person is because of the shame they already feel for being obese, unhealthy and having no self control. Besides the rare medical exception these people are in a bad place mentally and physically. Hiding external confirmation of what you already know about yourself doesn't do anything but reenforce the downward spiral of self destruction. \n",
      "\n",
      "You've got it backwards on Google Play. If Google had taken a bit of a stronger arm in the beginning, we wouldn't have the fragmentation and shitty experience (Huawei's crap UI, Samsung's crap UI, etc.) that we have today. Google's slowly trying to clean it up, and perhaps the few-restrictions early play was a Trojan Horse. But opening Android up now would certainly be a mistake as it'd only further encourage OEMs to screw it up. Look at Microsoft and how much they suffered at the hands of terrible OEMs. \n",
      "\n",
      "Indeed. Also, there are environmental issues (like climate changes) and policies that depend on estimates of how much emissions is being generated where. If indeed millions of vehicles are exceeding the official value by 20x, we're in much deeper shit than we thought. Emissions are not a joke. By cheating on it on such a scale, VW (and others like it) are literally fucking with the fate of mankind. \n",
      "\n",
      "> Very rarely will these two overlap; only on very very large products. This is the Kool-Aid drunk by designers who actually don't give a fuck about their users. 'rarely', 'very very large products'... this is the cry of the lazy, crappy designer. \n",
      "\n"
     ]
    }
   ],
   "source": [
    "# Examine comments identified as most likely to be offensive\n",
    "# by profanity-check.\n",
    "for comment in (df.sort_values(by='pc_prob_offensive', ascending=False)['text'].head(20)):\n",
    "    print(comment, '\\n')"
   ]
  },
  {
   "cell_type": "code",
   "execution_count": 9,
   "metadata": {},
   "outputs": [],
   "source": [
    "# Restore original html comments to primary dataset.\n",
    "df['html_text'] = html_text['text']"
   ]
  },
  {
   "cell_type": "code",
   "execution_count": 10,
   "metadata": {},
   "outputs": [],
   "source": [
    "# Remove html escape sequences.\n",
    "df['html_text'] = df['html_text'].apply(html.unescape)"
   ]
  },
  {
   "cell_type": "code",
   "execution_count": 11,
   "metadata": {},
   "outputs": [
    {
     "data": {
      "text/plain": [
       "0    US is not really scared by BRICS at all. They'...\n",
       "1    I wasn't really trying to argue, they said the...\n",
       "2    The examples on the homepage kind of underscor...\n",
       "3    No mention of a critical aspect of a service l...\n",
       "4    I think some of these points are gross exagger...\n",
       "Name: html_text, dtype: object"
      ]
     },
     "execution_count": 11,
     "metadata": {},
     "output_type": "execute_result"
    }
   ],
   "source": [
    "# Check updated html text column.\n",
    "df['html_text'].head()"
   ]
  },
  {
   "cell_type": "code",
   "execution_count": 12,
   "metadata": {},
   "outputs": [
    {
     "data": {
      "text/plain": [
       "3"
      ]
     },
     "execution_count": 12,
     "metadata": {},
     "output_type": "execute_result"
    }
   ],
   "source": [
    "# Test tag counting.\n",
    "parser.count_tags(df['html_text'][17])"
   ]
  },
  {
   "cell_type": "code",
   "execution_count": 13,
   "metadata": {},
   "outputs": [],
   "source": [
    "# Add tag count feature to dataframe.\n",
    "df['num_tags'] = df['html_text'].apply(parser.count_tags)"
   ]
  },
  {
   "cell_type": "code",
   "execution_count": 14,
   "metadata": {},
   "outputs": [
    {
     "data": {
      "text/plain": [
       "0     6805\n",
       "1     1298\n",
       "2      748\n",
       "3      395\n",
       "4      264\n",
       "5      156\n",
       "6       99\n",
       "7       45\n",
       "8       43\n",
       "9       28\n",
       "11      27\n",
       "10      19\n",
       "12       7\n",
       "14       5\n",
       "17       5\n",
       "16       4\n",
       "29       2\n",
       "20       2\n",
       "15       2\n",
       "13       2\n",
       "18       2\n",
       "33       1\n",
       "24       1\n",
       "22       1\n",
       "52       1\n",
       "45       1\n",
       "44       1\n",
       "21       1\n",
       "19       1\n",
       "27       1\n",
       "68       1\n",
       "23       1\n",
       "47       1\n",
       "Name: num_tags, dtype: int64"
      ]
     },
     "execution_count": 14,
     "metadata": {},
     "output_type": "execute_result"
    }
   ],
   "source": [
    "# Preview distribution of tag counts.\n",
    "df['num_tags'].value_counts()"
   ]
  },
  {
   "cell_type": "code",
   "execution_count": 15,
   "metadata": {},
   "outputs": [],
   "source": [
    "# Add new line count to dataframe.\n",
    "df['new_lines'] = df['text'].str.count('\\n')"
   ]
  },
  {
   "cell_type": "code",
   "execution_count": 16,
   "metadata": {},
   "outputs": [
    {
     "data": {
      "text/plain": [
       "0    9970\n",
       "Name: new_lines, dtype: int64"
      ]
     },
     "execution_count": 16,
     "metadata": {},
     "output_type": "execute_result"
    }
   ],
   "source": [
    "# Check distribution of new line counts.\n",
    "df['new_lines'].value_counts()"
   ]
  },
  {
   "cell_type": "code",
   "execution_count": 17,
   "metadata": {},
   "outputs": [],
   "source": [
    "# Add number of capital letters to dataframe.\n",
    "df['num_caps'] = df['text'].apply(lambda text: \n",
    "                                  sum(1 for char in text if char.isupper()))"
   ]
  },
  {
   "cell_type": "code",
   "execution_count": 18,
   "metadata": {},
   "outputs": [
    {
     "data": {
      "text/plain": [
       "True    9970\n",
       "dtype: int64"
      ]
     },
     "execution_count": 18,
     "metadata": {},
     "output_type": "execute_result"
    }
   ],
   "source": [
    "# Compare 'author' and 'by' fields.\n",
    "# These are redundant for comments.\n",
    "(df['author'] == df['by']).value_counts()"
   ]
  },
  {
   "cell_type": "code",
   "execution_count": 19,
   "metadata": {},
   "outputs": [],
   "source": [
    "# Add text length feature to dataframe.\n",
    "df['text_len'] = df['text'].str.len()"
   ]
  },
  {
   "cell_type": "code",
   "execution_count": 20,
   "metadata": {},
   "outputs": [],
   "source": [
    "# Normalize capital letter count.\n",
    "df['pct_caps'] = df['num_caps']/df['text_len']"
   ]
  },
  {
   "cell_type": "code",
   "execution_count": 21,
   "metadata": {},
   "outputs": [
    {
     "name": "stdout",
     "output_type": "stream",
     "text": [
      "K \n",
      "\n",
      "I'LL ALLOW IT. \n",
      "\n",
      "See SOPA. \n",
      "\n",
      " WE ARE CURRENTLY NOT SUPPORTING YOUR BROWSER (BUT WE WILL SOON) That's the latest Firefox running on Ubuntu 14 LTS. \n",
      "\n",
      "See also CISC vs RISC. \n",
      "\n",
      "No NLTK love? \n",
      "\n",
      "See US Army. \n",
      "\n",
      "Why no USB Type-C? \n",
      "\n",
      "AMP is a subset of HTML. \n",
      "\n",
      "He's the REAL Steve Jobs \n",
      "\n",
      ">don't be a lemming. Don't sacrifice rationality for idealism. There are severe consequences. this should be wrapped in and displayed on every page on YC. like: DISCLAIMER: MAY BE FATAL TO STARTUP FOUNDERS WHEN FORGETTING TO BE A HUMAN. \n",
      "\n",
      "I'd rather just use SAML, OAuth, SQRL, etc. \n",
      "\n",
      "Yes. \n",
      "\n",
      "Why? \n",
      "\n",
      "Yes. \n",
      "\n",
      "Gah! \n",
      "\n",
      "Do they have UV LEDs yet? \n",
      "\n",
      "The following bug got changed from RESOLVED INVALID to RESOLVED FIXED. https://sourceware.org/bugzilla/show_bug.cgi?id=10134 \n",
      "\n",
      "https://i.imgur.com/UUEDKYA.jpg \n",
      "\n",
      "Born. Suffered. Died. (TBA) \n",
      "\n"
     ]
    }
   ],
   "source": [
    "# Examine comments with the highest proportion of capital \n",
    "# letters.\n",
    "for comment in df.sort_values(by='pct_caps', ascending=False)['text'].head(20):\n",
    "    print(comment, '\\n')"
   ]
  },
  {
   "cell_type": "code",
   "execution_count": 22,
   "metadata": {},
   "outputs": [],
   "source": [
    "# Normalize tag counts.\n",
    "df['tags_per_char'] = df['num_tags']/df['text_len']"
   ]
  },
  {
   "cell_type": "code",
   "execution_count": 23,
   "metadata": {},
   "outputs": [],
   "source": [
    "# Normalize new line counts.\n",
    "df['newlines_per_char'] = df['new_lines']/df['text_len']"
   ]
  },
  {
   "cell_type": "code",
   "execution_count": 24,
   "metadata": {},
   "outputs": [],
   "source": [
    "# Convert 'time_ts' column to pandas datetime.\n",
    "# Overwrite Unix time (redundant).\n",
    "df['time'] = pd.to_datetime(df['time_ts'])"
   ]
  },
  {
   "cell_type": "code",
   "execution_count": 25,
   "metadata": {},
   "outputs": [],
   "source": [
    "# Extract hour from posting time.\n",
    "df['hour_posted'] = df['time'].dt.hour"
   ]
  },
  {
   "cell_type": "code",
   "execution_count": 26,
   "metadata": {},
   "outputs": [
    {
     "data": {
      "text/plain": [
       "True    62\n",
       "Name: dead, dtype: int64"
      ]
     },
     "execution_count": 26,
     "metadata": {},
     "output_type": "execute_result"
    }
   ],
   "source": [
    "# Examine distribution of 'dead' values.\n",
    "df.dead.value_counts()"
   ]
  },
  {
   "cell_type": "code",
   "execution_count": 27,
   "metadata": {},
   "outputs": [],
   "source": [
    "# Fill NA values - probably safe to assume comments not \n",
    "# marked as 'dead' aren't.\n",
    "df['dead'] = df['dead'].fillna(False)"
   ]
  },
  {
   "cell_type": "code",
   "execution_count": 28,
   "metadata": {},
   "outputs": [
    {
     "data": {
      "text/plain": [
       "False    9908\n",
       "True       62\n",
       "Name: dead, dtype: int64"
      ]
     },
     "execution_count": 28,
     "metadata": {},
     "output_type": "execute_result"
    }
   ],
   "source": [
    "# Check results.\n",
    "df.dead.value_counts()"
   ]
  },
  {
   "cell_type": "code",
   "execution_count": 29,
   "metadata": {},
   "outputs": [
    {
     "data": {
      "text/plain": [
       "Series([], Name: deleted, dtype: int64)"
      ]
     },
     "execution_count": 29,
     "metadata": {},
     "output_type": "execute_result"
    }
   ],
   "source": [
    "# Examine distribution of 'deleted' values.\n",
    "df['deleted'].value_counts()"
   ]
  },
  {
   "cell_type": "code",
   "execution_count": 30,
   "metadata": {},
   "outputs": [
    {
     "data": {
      "text/plain": [
       "9970"
      ]
     },
     "execution_count": 30,
     "metadata": {},
     "output_type": "execute_result"
    }
   ],
   "source": [
    "# Double-check results - nothing useful in this column!\n",
    "df.deleted.isna().sum()"
   ]
  },
  {
   "cell_type": "code",
   "execution_count": 31,
   "metadata": {},
   "outputs": [
    {
     "data": {
      "text/plain": [
       "Index(['id', 'by', 'author', 'time', 'time_ts', 'text', 'parent', 'deleted',\n",
       "       'dead', 'ranking', 'neg', 'neu', 'pos', 'compound', 'tb_polarity',\n",
       "       'tb_subjectivity', 'toxicity', 'pc_prob_offensive', 'html_text',\n",
       "       'num_tags', 'new_lines', 'num_caps', 'text_len', 'pct_caps',\n",
       "       'tags_per_char', 'newlines_per_char', 'hour_posted'],\n",
       "      dtype='object')"
      ]
     },
     "execution_count": 31,
     "metadata": {},
     "output_type": "execute_result"
    }
   ],
   "source": [
    "# Review updated column list.\n",
    "df.columns"
   ]
  },
  {
   "cell_type": "code",
   "execution_count": 32,
   "metadata": {},
   "outputs": [],
   "source": [
    "# Drop unneeded columns.\n",
    "df = df.drop(['author', \n",
    "              'time_ts',\n",
    "              'html_text', \n",
    "              'deleted',\n",
    "              'num_caps', \n",
    "              'num_tags', \n",
    "              'new_lines'], axis=1)"
   ]
  },
  {
   "cell_type": "code",
   "execution_count": 33,
   "metadata": {},
   "outputs": [
    {
     "data": {
      "text/plain": [
       "Index(['id', 'by', 'time', 'text', 'parent', 'dead', 'ranking', 'neg', 'neu',\n",
       "       'pos', 'compound', 'tb_polarity', 'tb_subjectivity', 'toxicity',\n",
       "       'pc_prob_offensive', 'text_len', 'pct_caps', 'tags_per_char',\n",
       "       'newlines_per_char', 'hour_posted'],\n",
       "      dtype='object')"
      ]
     },
     "execution_count": 33,
     "metadata": {},
     "output_type": "execute_result"
    }
   ],
   "source": [
    "# Re-check column list\n",
    "df.columns"
   ]
  },
  {
   "cell_type": "code",
   "execution_count": 34,
   "metadata": {},
   "outputs": [],
   "source": [
    "# Reorder columns.\n",
    "df = df[['id', 'parent', 'by', 'time', 'hour_posted', 'text',\n",
    "         'dead', 'ranking', 'text_len', 'pct_caps',\n",
    "         'tags_per_char', 'newlines_per_char', \n",
    "         'toxicity', 'neg', 'neu', 'pos', 'compound', \n",
    "         'tb_polarity', 'tb_subjectivity', 'pc_prob_offensive']]"
   ]
  },
  {
   "cell_type": "code",
   "execution_count": 35,
   "metadata": {},
   "outputs": [],
   "source": [
    "# Re-name columns to highlight score sources.\n",
    "df.columns = ['id', 'parent', 'by', 'time', 'hour_posted', 'text',\n",
    "         'dead', 'ranking', 'text_len', 'pct_caps',\n",
    "         'tags_per_char', 'newlines_per_char', \n",
    "         'papi_toxicity', 'v_neg', 'v_neu', 'v_pos', 'v_compound', \n",
    "         'tb_polarity', 'tb_subjectivity', 'pc_prob_offensive']"
   ]
  },
  {
   "cell_type": "code",
   "execution_count": 36,
   "metadata": {},
   "outputs": [
    {
     "data": {
      "text/html": [
       "<div>\n",
       "<style scoped>\n",
       "    .dataframe tbody tr th:only-of-type {\n",
       "        vertical-align: middle;\n",
       "    }\n",
       "\n",
       "    .dataframe tbody tr th {\n",
       "        vertical-align: top;\n",
       "    }\n",
       "\n",
       "    .dataframe thead th {\n",
       "        text-align: right;\n",
       "    }\n",
       "</style>\n",
       "<table border=\"1\" class=\"dataframe\">\n",
       "  <thead>\n",
       "    <tr style=\"text-align: right;\">\n",
       "      <th></th>\n",
       "      <th>id</th>\n",
       "      <th>parent</th>\n",
       "      <th>by</th>\n",
       "      <th>time</th>\n",
       "      <th>hour_posted</th>\n",
       "      <th>text</th>\n",
       "      <th>dead</th>\n",
       "      <th>ranking</th>\n",
       "      <th>text_len</th>\n",
       "      <th>pct_caps</th>\n",
       "      <th>tags_per_char</th>\n",
       "      <th>newlines_per_char</th>\n",
       "      <th>papi_toxicity</th>\n",
       "      <th>v_neg</th>\n",
       "      <th>v_neu</th>\n",
       "      <th>v_pos</th>\n",
       "      <th>v_compound</th>\n",
       "      <th>tb_polarity</th>\n",
       "      <th>tb_subjectivity</th>\n",
       "      <th>pc_prob_offensive</th>\n",
       "    </tr>\n",
       "  </thead>\n",
       "  <tbody>\n",
       "    <tr>\n",
       "      <td>0</td>\n",
       "      <td>10331981</td>\n",
       "      <td>10331895</td>\n",
       "      <td>debacle</td>\n",
       "      <td>2015-10-05 14:24:42+00:00</td>\n",
       "      <td>14</td>\n",
       "      <td>US is not really scared by BRICS at all. They'...</td>\n",
       "      <td>False</td>\n",
       "      <td>0</td>\n",
       "      <td>146</td>\n",
       "      <td>0.068493</td>\n",
       "      <td>0.000000</td>\n",
       "      <td>0.0</td>\n",
       "      <td>0.100881</td>\n",
       "      <td>0.000</td>\n",
       "      <td>0.744</td>\n",
       "      <td>0.256</td>\n",
       "      <td>0.7859</td>\n",
       "      <td>0.156250</td>\n",
       "      <td>0.61875</td>\n",
       "      <td>0.238871</td>\n",
       "    </tr>\n",
       "    <tr>\n",
       "      <td>1</td>\n",
       "      <td>10343811</td>\n",
       "      <td>10343761</td>\n",
       "      <td>sarciszewski</td>\n",
       "      <td>2015-10-07 02:13:15+00:00</td>\n",
       "      <td>2</td>\n",
       "      <td>I wasn't really trying to argue, they said the...</td>\n",
       "      <td>False</td>\n",
       "      <td>0</td>\n",
       "      <td>76</td>\n",
       "      <td>0.013158</td>\n",
       "      <td>0.000000</td>\n",
       "      <td>0.0</td>\n",
       "      <td>0.048637</td>\n",
       "      <td>0.195</td>\n",
       "      <td>0.805</td>\n",
       "      <td>0.000</td>\n",
       "      <td>-0.3947</td>\n",
       "      <td>0.200000</td>\n",
       "      <td>0.20000</td>\n",
       "      <td>0.050161</td>\n",
       "    </tr>\n",
       "    <tr>\n",
       "      <td>2</td>\n",
       "      <td>10331538</td>\n",
       "      <td>10331008</td>\n",
       "      <td>debacle</td>\n",
       "      <td>2015-10-05 13:08:10+00:00</td>\n",
       "      <td>13</td>\n",
       "      <td>The examples on the homepage kind of underscor...</td>\n",
       "      <td>False</td>\n",
       "      <td>12</td>\n",
       "      <td>88</td>\n",
       "      <td>0.034091</td>\n",
       "      <td>0.000000</td>\n",
       "      <td>0.0</td>\n",
       "      <td>0.044777</td>\n",
       "      <td>0.000</td>\n",
       "      <td>0.864</td>\n",
       "      <td>0.136</td>\n",
       "      <td>0.2975</td>\n",
       "      <td>0.137500</td>\n",
       "      <td>0.50000</td>\n",
       "      <td>0.098511</td>\n",
       "    </tr>\n",
       "    <tr>\n",
       "      <td>3</td>\n",
       "      <td>10340097</td>\n",
       "      <td>10339965</td>\n",
       "      <td>debacle</td>\n",
       "      <td>2015-10-06 16:33:06+00:00</td>\n",
       "      <td>16</td>\n",
       "      <td>No mention of a critical aspect of a service l...</td>\n",
       "      <td>False</td>\n",
       "      <td>22</td>\n",
       "      <td>99</td>\n",
       "      <td>0.010101</td>\n",
       "      <td>0.000000</td>\n",
       "      <td>0.0</td>\n",
       "      <td>0.035335</td>\n",
       "      <td>0.214</td>\n",
       "      <td>0.667</td>\n",
       "      <td>0.119</td>\n",
       "      <td>-0.2500</td>\n",
       "      <td>0.000000</td>\n",
       "      <td>0.80000</td>\n",
       "      <td>0.056323</td>\n",
       "    </tr>\n",
       "    <tr>\n",
       "      <td>4</td>\n",
       "      <td>10338552</td>\n",
       "      <td>10337763</td>\n",
       "      <td>debacle</td>\n",
       "      <td>2015-10-06 13:06:26+00:00</td>\n",
       "      <td>13</td>\n",
       "      <td>I think some of these points are gross exagger...</td>\n",
       "      <td>False</td>\n",
       "      <td>38</td>\n",
       "      <td>868</td>\n",
       "      <td>0.013825</td>\n",
       "      <td>0.009217</td>\n",
       "      <td>0.0</td>\n",
       "      <td>0.232577</td>\n",
       "      <td>0.081</td>\n",
       "      <td>0.902</td>\n",
       "      <td>0.017</td>\n",
       "      <td>-0.8233</td>\n",
       "      <td>0.076667</td>\n",
       "      <td>0.26000</td>\n",
       "      <td>0.001499</td>\n",
       "    </tr>\n",
       "  </tbody>\n",
       "</table>\n",
       "</div>"
      ],
      "text/plain": [
       "         id    parent            by                      time  hour_posted  \\\n",
       "0  10331981  10331895       debacle 2015-10-05 14:24:42+00:00           14   \n",
       "1  10343811  10343761  sarciszewski 2015-10-07 02:13:15+00:00            2   \n",
       "2  10331538  10331008       debacle 2015-10-05 13:08:10+00:00           13   \n",
       "3  10340097  10339965       debacle 2015-10-06 16:33:06+00:00           16   \n",
       "4  10338552  10337763       debacle 2015-10-06 13:06:26+00:00           13   \n",
       "\n",
       "                                                text   dead  ranking  \\\n",
       "0  US is not really scared by BRICS at all. They'...  False        0   \n",
       "1  I wasn't really trying to argue, they said the...  False        0   \n",
       "2  The examples on the homepage kind of underscor...  False       12   \n",
       "3  No mention of a critical aspect of a service l...  False       22   \n",
       "4  I think some of these points are gross exagger...  False       38   \n",
       "\n",
       "   text_len  pct_caps  tags_per_char  newlines_per_char  papi_toxicity  v_neg  \\\n",
       "0       146  0.068493       0.000000                0.0       0.100881  0.000   \n",
       "1        76  0.013158       0.000000                0.0       0.048637  0.195   \n",
       "2        88  0.034091       0.000000                0.0       0.044777  0.000   \n",
       "3        99  0.010101       0.000000                0.0       0.035335  0.214   \n",
       "4       868  0.013825       0.009217                0.0       0.232577  0.081   \n",
       "\n",
       "   v_neu  v_pos  v_compound  tb_polarity  tb_subjectivity  pc_prob_offensive  \n",
       "0  0.744  0.256      0.7859     0.156250          0.61875           0.238871  \n",
       "1  0.805  0.000     -0.3947     0.200000          0.20000           0.050161  \n",
       "2  0.864  0.136      0.2975     0.137500          0.50000           0.098511  \n",
       "3  0.667  0.119     -0.2500     0.000000          0.80000           0.056323  \n",
       "4  0.902  0.017     -0.8233     0.076667          0.26000           0.001499  "
      ]
     },
     "execution_count": 36,
     "metadata": {},
     "output_type": "execute_result"
    }
   ],
   "source": [
    "# Review updated dataframe.\n",
    "df.head()"
   ]
  },
  {
   "cell_type": "code",
   "execution_count": 37,
   "metadata": {},
   "outputs": [],
   "source": [
    "# Save to file.\n",
    "df.to_csv('first_week_oct_2015_comments_by_top_400_with_scores_and_features', index=False)"
   ]
  }
 ],
 "metadata": {
  "kernelspec": {
   "display_name": "Python 3",
   "language": "python",
   "name": "python3"
  },
  "language_info": {
   "codemirror_mode": {
    "name": "ipython",
    "version": 3
   },
   "file_extension": ".py",
   "mimetype": "text/x-python",
   "name": "python",
   "nbconvert_exporter": "python",
   "pygments_lexer": "ipython3",
   "version": "3.7.4"
  }
 },
 "nbformat": 4,
 "nbformat_minor": 2
}
