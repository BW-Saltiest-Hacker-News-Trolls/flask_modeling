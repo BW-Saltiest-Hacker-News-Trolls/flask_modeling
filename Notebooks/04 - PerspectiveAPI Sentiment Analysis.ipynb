{
 "cells": [
  {
   "cell_type": "code",
   "execution_count": 43,
   "metadata": {},
   "outputs": [],
   "source": [
    "import json\n",
    "import requests\n",
    "import numpy as np\n",
    "import pandas as pd\n",
    "import time"
   ]
  },
  {
   "cell_type": "code",
   "execution_count": 2,
   "metadata": {},
   "outputs": [],
   "source": [
    "df = pd.read_csv('first_week_oct_2015_comments_by_top_400_with_scores_v2.csv')"
   ]
  },
  {
   "cell_type": "code",
   "execution_count": 3,
   "metadata": {},
   "outputs": [
    {
     "data": {
      "text/plain": [
       "(9970, 16)"
      ]
     },
     "execution_count": 3,
     "metadata": {},
     "output_type": "execute_result"
    }
   ],
   "source": [
    "df.shape"
   ]
  },
  {
   "cell_type": "code",
   "execution_count": 4,
   "metadata": {},
   "outputs": [
    {
     "data": {
      "text/html": [
       "<div>\n",
       "<style scoped>\n",
       "    .dataframe tbody tr th:only-of-type {\n",
       "        vertical-align: middle;\n",
       "    }\n",
       "\n",
       "    .dataframe tbody tr th {\n",
       "        vertical-align: top;\n",
       "    }\n",
       "\n",
       "    .dataframe thead th {\n",
       "        text-align: right;\n",
       "    }\n",
       "</style>\n",
       "<table border=\"1\" class=\"dataframe\">\n",
       "  <thead>\n",
       "    <tr style=\"text-align: right;\">\n",
       "      <th></th>\n",
       "      <th>id</th>\n",
       "      <th>by</th>\n",
       "      <th>author</th>\n",
       "      <th>time</th>\n",
       "      <th>time_ts</th>\n",
       "      <th>text</th>\n",
       "      <th>parent</th>\n",
       "      <th>deleted</th>\n",
       "      <th>dead</th>\n",
       "      <th>ranking</th>\n",
       "      <th>neg</th>\n",
       "      <th>neu</th>\n",
       "      <th>pos</th>\n",
       "      <th>compound</th>\n",
       "      <th>tb_polarity</th>\n",
       "      <th>tb_subjectivity</th>\n",
       "    </tr>\n",
       "  </thead>\n",
       "  <tbody>\n",
       "    <tr>\n",
       "      <td>0</td>\n",
       "      <td>10331981</td>\n",
       "      <td>debacle</td>\n",
       "      <td>debacle</td>\n",
       "      <td>1444055082</td>\n",
       "      <td>2015-10-05 14:24:42+00:00</td>\n",
       "      <td>US is not really scared by BRICS at all. They'...</td>\n",
       "      <td>10331895</td>\n",
       "      <td>NaN</td>\n",
       "      <td>NaN</td>\n",
       "      <td>0</td>\n",
       "      <td>0.000</td>\n",
       "      <td>0.744</td>\n",
       "      <td>0.256</td>\n",
       "      <td>0.7859</td>\n",
       "      <td>0.156250</td>\n",
       "      <td>0.61875</td>\n",
       "    </tr>\n",
       "    <tr>\n",
       "      <td>1</td>\n",
       "      <td>10343811</td>\n",
       "      <td>sarciszewski</td>\n",
       "      <td>sarciszewski</td>\n",
       "      <td>1444183995</td>\n",
       "      <td>2015-10-07 02:13:15+00:00</td>\n",
       "      <td>I wasn't really trying to argue, they said the...</td>\n",
       "      <td>10343761</td>\n",
       "      <td>NaN</td>\n",
       "      <td>NaN</td>\n",
       "      <td>0</td>\n",
       "      <td>0.195</td>\n",
       "      <td>0.805</td>\n",
       "      <td>0.000</td>\n",
       "      <td>-0.3947</td>\n",
       "      <td>0.200000</td>\n",
       "      <td>0.20000</td>\n",
       "    </tr>\n",
       "    <tr>\n",
       "      <td>2</td>\n",
       "      <td>10331538</td>\n",
       "      <td>debacle</td>\n",
       "      <td>debacle</td>\n",
       "      <td>1444050490</td>\n",
       "      <td>2015-10-05 13:08:10+00:00</td>\n",
       "      <td>The examples on the homepage kind of underscor...</td>\n",
       "      <td>10331008</td>\n",
       "      <td>NaN</td>\n",
       "      <td>NaN</td>\n",
       "      <td>12</td>\n",
       "      <td>0.000</td>\n",
       "      <td>0.864</td>\n",
       "      <td>0.136</td>\n",
       "      <td>0.2975</td>\n",
       "      <td>0.137500</td>\n",
       "      <td>0.50000</td>\n",
       "    </tr>\n",
       "    <tr>\n",
       "      <td>3</td>\n",
       "      <td>10340097</td>\n",
       "      <td>debacle</td>\n",
       "      <td>debacle</td>\n",
       "      <td>1444149186</td>\n",
       "      <td>2015-10-06 16:33:06+00:00</td>\n",
       "      <td>No mention of a critical aspect of a service l...</td>\n",
       "      <td>10339965</td>\n",
       "      <td>NaN</td>\n",
       "      <td>NaN</td>\n",
       "      <td>22</td>\n",
       "      <td>0.214</td>\n",
       "      <td>0.667</td>\n",
       "      <td>0.119</td>\n",
       "      <td>-0.2500</td>\n",
       "      <td>0.000000</td>\n",
       "      <td>0.80000</td>\n",
       "    </tr>\n",
       "    <tr>\n",
       "      <td>4</td>\n",
       "      <td>10338552</td>\n",
       "      <td>debacle</td>\n",
       "      <td>debacle</td>\n",
       "      <td>1444136786</td>\n",
       "      <td>2015-10-06 13:06:26+00:00</td>\n",
       "      <td>I think some of these points are gross exagger...</td>\n",
       "      <td>10337763</td>\n",
       "      <td>NaN</td>\n",
       "      <td>NaN</td>\n",
       "      <td>38</td>\n",
       "      <td>0.081</td>\n",
       "      <td>0.902</td>\n",
       "      <td>0.017</td>\n",
       "      <td>-0.8233</td>\n",
       "      <td>0.076667</td>\n",
       "      <td>0.26000</td>\n",
       "    </tr>\n",
       "  </tbody>\n",
       "</table>\n",
       "</div>"
      ],
      "text/plain": [
       "         id            by        author        time  \\\n",
       "0  10331981       debacle       debacle  1444055082   \n",
       "1  10343811  sarciszewski  sarciszewski  1444183995   \n",
       "2  10331538       debacle       debacle  1444050490   \n",
       "3  10340097       debacle       debacle  1444149186   \n",
       "4  10338552       debacle       debacle  1444136786   \n",
       "\n",
       "                     time_ts  \\\n",
       "0  2015-10-05 14:24:42+00:00   \n",
       "1  2015-10-07 02:13:15+00:00   \n",
       "2  2015-10-05 13:08:10+00:00   \n",
       "3  2015-10-06 16:33:06+00:00   \n",
       "4  2015-10-06 13:06:26+00:00   \n",
       "\n",
       "                                                text    parent  deleted dead  \\\n",
       "0  US is not really scared by BRICS at all. They'...  10331895      NaN  NaN   \n",
       "1  I wasn't really trying to argue, they said the...  10343761      NaN  NaN   \n",
       "2  The examples on the homepage kind of underscor...  10331008      NaN  NaN   \n",
       "3  No mention of a critical aspect of a service l...  10339965      NaN  NaN   \n",
       "4  I think some of these points are gross exagger...  10337763      NaN  NaN   \n",
       "\n",
       "   ranking    neg    neu    pos  compound  tb_polarity  tb_subjectivity  \n",
       "0        0  0.000  0.744  0.256    0.7859     0.156250          0.61875  \n",
       "1        0  0.195  0.805  0.000   -0.3947     0.200000          0.20000  \n",
       "2       12  0.000  0.864  0.136    0.2975     0.137500          0.50000  \n",
       "3       22  0.214  0.667  0.119   -0.2500     0.000000          0.80000  \n",
       "4       38  0.081  0.902  0.017   -0.8233     0.076667          0.26000  "
      ]
     },
     "execution_count": 4,
     "metadata": {},
     "output_type": "execute_result"
    }
   ],
   "source": [
    "df.head()"
   ]
  },
  {
   "cell_type": "code",
   "execution_count": 16,
   "metadata": {},
   "outputs": [],
   "source": [
    "# Add API key here.\n",
    "api_key = ''"
   ]
  },
  {
   "cell_type": "code",
   "execution_count": 17,
   "metadata": {},
   "outputs": [],
   "source": [
    "url = ('https://commentanalyzer.googleapis.com/v1alpha1/comments:analyze' +    \n",
    "    '?key=' + api_key)"
   ]
  },
  {
   "cell_type": "code",
   "execution_count": 18,
   "metadata": {},
   "outputs": [
    {
     "name": "stdout",
     "output_type": "stream",
     "text": [
      "{\n",
      "  \"attributeScores\": {\n",
      "    \"TOXICITY\": {\n",
      "      \"spanScores\": [\n",
      "        {\n",
      "          \"begin\": 0,\n",
      "          \"end\": 31,\n",
      "          \"score\": {\n",
      "            \"value\": 0.9208521,\n",
      "            \"type\": \"PROBABILITY\"\n",
      "          }\n",
      "        }\n",
      "      ],\n",
      "      \"summaryScore\": {\n",
      "        \"value\": 0.9208521,\n",
      "        \"type\": \"PROBABILITY\"\n",
      "      }\n",
      "    }\n",
      "  },\n",
      "  \"languages\": [\n",
      "    \"en\"\n",
      "  ],\n",
      "  \"detectedLanguages\": [\n",
      "    \"en\"\n",
      "  ]\n",
      "}\n"
     ]
    }
   ],
   "source": [
    "data_dict = {\n",
    "    'comment': {'text': 'what kind of idiot name is foo?'},\n",
    "    'languages': ['en'],\n",
    "    'requestedAttributes': {'TOXICITY': {}}\n",
    "}\n",
    "response = requests.post(url=url, data=json.dumps(data_dict)) \n",
    "response_dict = json.loads(response.content) \n",
    "print(json.dumps(response_dict, indent=2))"
   ]
  },
  {
   "cell_type": "code",
   "execution_count": 44,
   "metadata": {},
   "outputs": [],
   "source": [
    "def get_toxicity(comment):\n",
    "    data_dict = {\n",
    "        'comment': {'text': comment},\n",
    "        'languages': ['en'],\n",
    "        'requestedAttributes': {'TOXICITY': {}}\n",
    "    }\n",
    "    response = requests.post(url=url, data=json.dumps(data_dict)) \n",
    "    response_dict = json.loads(response.content)\n",
    "    time.sleep(1)\n",
    "    try:\n",
    "        return response_dict['attributeScores']['TOXICITY']['summaryScore']['value']\n",
    "    except:\n",
    "        return np.nan"
   ]
  },
  {
   "cell_type": "code",
   "execution_count": 45,
   "metadata": {},
   "outputs": [
    {
     "data": {
      "text/plain": [
       "0.6780577"
      ]
     },
     "execution_count": 45,
     "metadata": {},
     "output_type": "execute_result"
    }
   ],
   "source": [
    "get_toxicity(df['text'][17])"
   ]
  },
  {
   "cell_type": "code",
   "execution_count": 46,
   "metadata": {},
   "outputs": [],
   "source": [
    "df['toxicity'] = df['text'].apply(get_toxicity)"
   ]
  },
  {
   "cell_type": "code",
   "execution_count": 56,
   "metadata": {},
   "outputs": [
    {
     "data": {
      "text/plain": [
       "Int64Index([19, 39], dtype='int64')"
      ]
     },
     "execution_count": 56,
     "metadata": {},
     "output_type": "execute_result"
    }
   ],
   "source": [
    "df.index[df['toxicity'].isna()]"
   ]
  },
  {
   "cell_type": "code",
   "execution_count": 59,
   "metadata": {},
   "outputs": [
    {
     "data": {
      "text/plain": [
       "0.062085487"
      ]
     },
     "execution_count": 59,
     "metadata": {},
     "output_type": "execute_result"
    }
   ],
   "source": [
    "get_toxicity(df['text'][19])"
   ]
  },
  {
   "cell_type": "code",
   "execution_count": 66,
   "metadata": {},
   "outputs": [],
   "source": [
    "df.at[19, 'toxicity'] = get_toxicity(df['text'][19])"
   ]
  },
  {
   "cell_type": "code",
   "execution_count": 68,
   "metadata": {},
   "outputs": [
    {
     "data": {
      "text/plain": [
       "id                                                          10340505\n",
       "by                                                           debacle\n",
       "author                                                       debacle\n",
       "time                                                      1444151736\n",
       "time_ts                                    2015-10-06 17:15:36+00:00\n",
       "text               There may be. WordPress is not ironclad and Re...\n",
       "parent                                                      10340453\n",
       "deleted                                                          NaN\n",
       "dead                                                             NaN\n",
       "ranking                                                            0\n",
       "neg                                                                0\n",
       "neu                                                              0.9\n",
       "pos                                                              0.1\n",
       "compound                                                      0.3947\n",
       "tb_polarity                                                   -0.195\n",
       "tb_subjectivity                                                 0.31\n",
       "toxicity                                                   0.0620855\n",
       "Name: 19, dtype: object"
      ]
     },
     "execution_count": 68,
     "metadata": {},
     "output_type": "execute_result"
    }
   ],
   "source": [
    "df.iloc[19]"
   ]
  },
  {
   "cell_type": "code",
   "execution_count": 69,
   "metadata": {},
   "outputs": [],
   "source": [
    "df.at[39, 'toxicity'] = get_toxicity(df['text'][39])"
   ]
  },
  {
   "cell_type": "code",
   "execution_count": 70,
   "metadata": {},
   "outputs": [
    {
     "data": {
      "text/plain": [
       "id                                                          10343667\n",
       "by                                                      sarciszewski\n",
       "author                                                  sarciszewski\n",
       "time                                                      1444181844\n",
       "time_ts                                    2015-10-07 01:37:24+00:00\n",
       "text               > Some implementation principles (least privil...\n",
       "parent                                                      10343643\n",
       "deleted                                                          NaN\n",
       "dead                                                             NaN\n",
       "ranking                                                            0\n",
       "neg                                                            0.076\n",
       "neu                                                            0.723\n",
       "pos                                                            0.201\n",
       "compound                                                      0.9489\n",
       "tb_polarity                                               -0.0553331\n",
       "tb_subjectivity                                             0.380243\n",
       "toxicity                                                   0.0645937\n",
       "Name: 39, dtype: object"
      ]
     },
     "execution_count": 70,
     "metadata": {},
     "output_type": "execute_result"
    }
   ],
   "source": [
    "df.iloc[39]"
   ]
  },
  {
   "cell_type": "code",
   "execution_count": 71,
   "metadata": {},
   "outputs": [],
   "source": [
    "for text in df['text'][df['toxicity'].isna()]:\n",
    "    print(text, '\\n')"
   ]
  },
  {
   "cell_type": "code",
   "execution_count": 79,
   "metadata": {},
   "outputs": [
    {
     "name": "stdout",
     "output_type": "stream",
     "text": [
      ">  Fuck you [...] you heartless piece of shit. Please remain civil on HN, even when you feel strongly and someone else feels heartless. https://news.ycombinator.com/newsguidelines.html https://news.ycombinator.com/newswelcome.html \n",
      "\n",
      "Of course the math adds up.  You can't run a university without a home in Fire Island, and that shit's spendy. \n",
      "\n",
      "We're not on the metric system, man. We are backwards as fuck. \n",
      "\n",
      "You know there's a \"Black Lives Matter\" slogan, right? Feel free to talk about the death of animals - it's an important topic - but linking your campaign the the murder of humans by police officers is, and I say this as politely as I can, fucking stupid. \n",
      "\n",
      "Great way to keep the stupid people honest. \n",
      "\n",
      ">  These threads always fucking suck on HN. Please don't post things like that to HN. They only make threads suck worse. \n",
      "\n",
      ">  Go do some fucking legwork, asshole We've banned this account. You can't do this here. \n",
      "\n",
      "what I hate more is the youth of today seem to let this shit happen. Not like the society that raised them seems to care either.  I blame them. \n",
      "\n",
      "None of those who are complaining about the monument of shit being erected outside of town is actually an erector of monuments made of shit. Typically, their complaints are about the ugly appearance and smell. Only one side is constructive. \n",
      "\n",
      ">  Very rarely will these two overlap; only on very very large products. This is the Kool-Aid drunk by designers who actually don't give a fuck about their users. 'rarely', 'very very large products'... this is the cry of the lazy, crappy designer. \n",
      "\n",
      "Unbelievable bullshit. They are bullshitting the world. Any politician that signs this, should be held liable for it. \n",
      "\n",
      "That's pretty shitty but how does it relate? \n",
      "\n",
      "The majority of people have children. Sucks for you, but I'd rather it suck for you and the rest of the few asshole asocial hermits, than suck for all of us. Though if you like money so much, maybe we could pass in a law that you can trade in your fertility for a tax cut. \n",
      "\n",
      "Microsoft doesn't need an cult of personality or any of the shallow smoke and mirrors sales tactics that Apple utilizes. They made it to greatness without that bullshit. \n",
      "\n",
      "True. And we should also target doctors that give shitty treatment as  a result of such shenanigans. \n",
      "\n",
      "> anti-anti-vaxxer Vaxx yourself, force your wife and child to vaxx, create a policy of only befriending vaxxed people, but the next time you think about telling me what to do, you can fuck off. \n",
      "\n",
      "I'm sorry, I'll stick to using \"you must be an ugly loser\" as an argument in future. \n",
      "\n",
      "You're missing the point.  I don't care whether people campaign vigorously to prevent abuse and needless death of black animals. But to use the line #blackdogsmatter, clearly derived from #blacklivesmatter, is idiotic. \n",
      "\n",
      "Is this a religious discussion now? I'm not sure that applies, anyway; ISTM that Jobs is already a dung beetle, or whatever. Besides, TFA is hardly \"seeking revenge\". The tone isn't even particularly harsh. It's just: here's some shit that dude did. \n",
      "\n",
      "Why wouldn't such a person that you hired ONLY pass along resumes of minorities (or edit and sabotage the resumes of the majority candidates)? After all, you've hand-picked them to be someone conscious of the struggles AND told them that you're racist, misogynistic, prejudiced, and an idiot... \n",
      "\n"
     ]
    }
   ],
   "source": [
    "for comment in df.sort_values(by='toxicity', ascending=False)['text'].head(20):\n",
    "    print(comment, '\\n')"
   ]
  },
  {
   "cell_type": "code",
   "execution_count": 80,
   "metadata": {},
   "outputs": [],
   "source": [
    "df.to_csv('first_week_oct_2015_comments_by_top_400_with_scores_v3.csv', index=False)"
   ]
  }
 ],
 "metadata": {
  "kernelspec": {
   "display_name": "Python 3",
   "language": "python",
   "name": "python3"
  },
  "language_info": {
   "codemirror_mode": {
    "name": "ipython",
    "version": 3
   },
   "file_extension": ".py",
   "mimetype": "text/x-python",
   "name": "python",
   "nbconvert_exporter": "python",
   "pygments_lexer": "ipython3",
   "version": "3.7.4"
  }
 },
 "nbformat": 4,
 "nbformat_minor": 2
}
