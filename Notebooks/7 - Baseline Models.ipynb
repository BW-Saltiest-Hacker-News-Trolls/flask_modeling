{
 "cells": [
  {
   "cell_type": "code",
   "execution_count": 1,
   "metadata": {},
   "outputs": [],
   "source": [
    "# Import libraries.\n",
    "import numpy as np\n",
    "import pandas as pd\n",
    "import string\n",
    "\n",
    "from sklearn.feature_selection import f_regression, RFE, SelectKBest\n",
    "from sklearn.linear_model import LinearRegression, LogisticRegression\n",
    "from sklearn.metrics import accuracy_score, mean_absolute_error, precision_score, recall_score\n",
    "from sklearn.model_selection import train_test_split\n",
    "from sklearn.preprocessing import MinMaxScaler"
   ]
  },
  {
   "cell_type": "code",
   "execution_count": 2,
   "metadata": {
    "scrolled": true
   },
   "outputs": [],
   "source": [
    "# Load data.\n",
    "df = pd.read_csv('first_week_oct_2015_comments_by_top_400_with_scores_and_features_v2.csv')"
   ]
  },
  {
   "cell_type": "code",
   "execution_count": 3,
   "metadata": {},
   "outputs": [
    {
     "data": {
      "text/html": [
       "<div>\n",
       "<style scoped>\n",
       "    .dataframe tbody tr th:only-of-type {\n",
       "        vertical-align: middle;\n",
       "    }\n",
       "\n",
       "    .dataframe tbody tr th {\n",
       "        vertical-align: top;\n",
       "    }\n",
       "\n",
       "    .dataframe thead th {\n",
       "        text-align: right;\n",
       "    }\n",
       "</style>\n",
       "<table border=\"1\" class=\"dataframe\">\n",
       "  <thead>\n",
       "    <tr style=\"text-align: right;\">\n",
       "      <th></th>\n",
       "      <th>id</th>\n",
       "      <th>parent</th>\n",
       "      <th>by</th>\n",
       "      <th>time</th>\n",
       "      <th>hour_posted</th>\n",
       "      <th>text</th>\n",
       "      <th>dead</th>\n",
       "      <th>ranking</th>\n",
       "      <th>text_len</th>\n",
       "      <th>pct_caps</th>\n",
       "      <th>...</th>\n",
       "      <th>newlines_per_char</th>\n",
       "      <th>papi_toxicity</th>\n",
       "      <th>v_neg</th>\n",
       "      <th>v_neu</th>\n",
       "      <th>v_pos</th>\n",
       "      <th>v_compound</th>\n",
       "      <th>tb_polarity</th>\n",
       "      <th>tb_subjectivity</th>\n",
       "      <th>tb_nb_prob_neg</th>\n",
       "      <th>pc_prob_offensive</th>\n",
       "    </tr>\n",
       "  </thead>\n",
       "  <tbody>\n",
       "    <tr>\n",
       "      <td>0</td>\n",
       "      <td>10331981</td>\n",
       "      <td>10331895</td>\n",
       "      <td>debacle</td>\n",
       "      <td>2015-10-05 14:24:42+00:00</td>\n",
       "      <td>14</td>\n",
       "      <td>US is not really scared by BRICS at all. They'...</td>\n",
       "      <td>False</td>\n",
       "      <td>0</td>\n",
       "      <td>146</td>\n",
       "      <td>0.068493</td>\n",
       "      <td>...</td>\n",
       "      <td>0</td>\n",
       "      <td>0.100881</td>\n",
       "      <td>0.000</td>\n",
       "      <td>0.744</td>\n",
       "      <td>0.256</td>\n",
       "      <td>0.7859</td>\n",
       "      <td>0.156250</td>\n",
       "      <td>0.61875</td>\n",
       "      <td>0.080001</td>\n",
       "      <td>0.238871</td>\n",
       "    </tr>\n",
       "    <tr>\n",
       "      <td>1</td>\n",
       "      <td>10343811</td>\n",
       "      <td>10343761</td>\n",
       "      <td>sarciszewski</td>\n",
       "      <td>2015-10-07 02:13:15+00:00</td>\n",
       "      <td>2</td>\n",
       "      <td>I wasn't really trying to argue, they said the...</td>\n",
       "      <td>False</td>\n",
       "      <td>0</td>\n",
       "      <td>76</td>\n",
       "      <td>0.013158</td>\n",
       "      <td>...</td>\n",
       "      <td>0</td>\n",
       "      <td>0.048637</td>\n",
       "      <td>0.195</td>\n",
       "      <td>0.805</td>\n",
       "      <td>0.000</td>\n",
       "      <td>-0.3947</td>\n",
       "      <td>0.200000</td>\n",
       "      <td>0.20000</td>\n",
       "      <td>0.593498</td>\n",
       "      <td>0.050161</td>\n",
       "    </tr>\n",
       "    <tr>\n",
       "      <td>2</td>\n",
       "      <td>10331538</td>\n",
       "      <td>10331008</td>\n",
       "      <td>debacle</td>\n",
       "      <td>2015-10-05 13:08:10+00:00</td>\n",
       "      <td>13</td>\n",
       "      <td>The examples on the homepage kind of underscor...</td>\n",
       "      <td>False</td>\n",
       "      <td>12</td>\n",
       "      <td>88</td>\n",
       "      <td>0.034091</td>\n",
       "      <td>...</td>\n",
       "      <td>0</td>\n",
       "      <td>0.044777</td>\n",
       "      <td>0.000</td>\n",
       "      <td>0.864</td>\n",
       "      <td>0.136</td>\n",
       "      <td>0.2975</td>\n",
       "      <td>0.137500</td>\n",
       "      <td>0.50000</td>\n",
       "      <td>0.336201</td>\n",
       "      <td>0.098511</td>\n",
       "    </tr>\n",
       "    <tr>\n",
       "      <td>3</td>\n",
       "      <td>10340097</td>\n",
       "      <td>10339965</td>\n",
       "      <td>debacle</td>\n",
       "      <td>2015-10-06 16:33:06+00:00</td>\n",
       "      <td>16</td>\n",
       "      <td>No mention of a critical aspect of a service l...</td>\n",
       "      <td>False</td>\n",
       "      <td>22</td>\n",
       "      <td>99</td>\n",
       "      <td>0.010101</td>\n",
       "      <td>...</td>\n",
       "      <td>0</td>\n",
       "      <td>0.035335</td>\n",
       "      <td>0.214</td>\n",
       "      <td>0.667</td>\n",
       "      <td>0.119</td>\n",
       "      <td>-0.2500</td>\n",
       "      <td>0.000000</td>\n",
       "      <td>0.80000</td>\n",
       "      <td>0.352414</td>\n",
       "      <td>0.056323</td>\n",
       "    </tr>\n",
       "    <tr>\n",
       "      <td>4</td>\n",
       "      <td>10338552</td>\n",
       "      <td>10337763</td>\n",
       "      <td>debacle</td>\n",
       "      <td>2015-10-06 13:06:26+00:00</td>\n",
       "      <td>13</td>\n",
       "      <td>I think some of these points are gross exagger...</td>\n",
       "      <td>False</td>\n",
       "      <td>38</td>\n",
       "      <td>868</td>\n",
       "      <td>0.013825</td>\n",
       "      <td>...</td>\n",
       "      <td>0</td>\n",
       "      <td>0.232577</td>\n",
       "      <td>0.081</td>\n",
       "      <td>0.902</td>\n",
       "      <td>0.017</td>\n",
       "      <td>-0.8233</td>\n",
       "      <td>0.076667</td>\n",
       "      <td>0.26000</td>\n",
       "      <td>0.000790</td>\n",
       "      <td>0.001499</td>\n",
       "    </tr>\n",
       "  </tbody>\n",
       "</table>\n",
       "<p>5 rows × 21 columns</p>\n",
       "</div>"
      ],
      "text/plain": [
       "         id    parent            by                       time  hour_posted  \\\n",
       "0  10331981  10331895       debacle  2015-10-05 14:24:42+00:00           14   \n",
       "1  10343811  10343761  sarciszewski  2015-10-07 02:13:15+00:00            2   \n",
       "2  10331538  10331008       debacle  2015-10-05 13:08:10+00:00           13   \n",
       "3  10340097  10339965       debacle  2015-10-06 16:33:06+00:00           16   \n",
       "4  10338552  10337763       debacle  2015-10-06 13:06:26+00:00           13   \n",
       "\n",
       "                                                text   dead  ranking  \\\n",
       "0  US is not really scared by BRICS at all. They'...  False        0   \n",
       "1  I wasn't really trying to argue, they said the...  False        0   \n",
       "2  The examples on the homepage kind of underscor...  False       12   \n",
       "3  No mention of a critical aspect of a service l...  False       22   \n",
       "4  I think some of these points are gross exagger...  False       38   \n",
       "\n",
       "   text_len  pct_caps  ...  newlines_per_char  papi_toxicity  v_neg  v_neu  \\\n",
       "0       146  0.068493  ...                  0       0.100881  0.000  0.744   \n",
       "1        76  0.013158  ...                  0       0.048637  0.195  0.805   \n",
       "2        88  0.034091  ...                  0       0.044777  0.000  0.864   \n",
       "3        99  0.010101  ...                  0       0.035335  0.214  0.667   \n",
       "4       868  0.013825  ...                  0       0.232577  0.081  0.902   \n",
       "\n",
       "   v_pos  v_compound  tb_polarity  tb_subjectivity  tb_nb_prob_neg  \\\n",
       "0  0.256      0.7859     0.156250          0.61875        0.080001   \n",
       "1  0.000     -0.3947     0.200000          0.20000        0.593498   \n",
       "2  0.136      0.2975     0.137500          0.50000        0.336201   \n",
       "3  0.119     -0.2500     0.000000          0.80000        0.352414   \n",
       "4  0.017     -0.8233     0.076667          0.26000        0.000790   \n",
       "\n",
       "   pc_prob_offensive  \n",
       "0           0.238871  \n",
       "1           0.050161  \n",
       "2           0.098511  \n",
       "3           0.056323  \n",
       "4           0.001499  \n",
       "\n",
       "[5 rows x 21 columns]"
      ]
     },
     "execution_count": 3,
     "metadata": {},
     "output_type": "execute_result"
    }
   ],
   "source": [
    "# Preview data.\n",
    "df.head()"
   ]
  },
  {
   "cell_type": "code",
   "execution_count": 4,
   "metadata": {},
   "outputs": [],
   "source": [
    "def avg_word_len(text):\n",
    "    words = text.split()\n",
    "    return sum(len(word) for word in \n",
    "               filter(lambda word: word[:4] != 'http', words)) / len(words)"
   ]
  },
  {
   "cell_type": "code",
   "execution_count": 5,
   "metadata": {},
   "outputs": [],
   "source": [
    "df['avg_word_len'] = df['text'].apply(avg_word_len)"
   ]
  },
  {
   "cell_type": "code",
   "execution_count": 6,
   "metadata": {},
   "outputs": [
    {
     "data": {
      "text/plain": [
       "count    9970.000000\n",
       "mean        4.736865\n",
       "std         0.729452\n",
       "min         0.000000\n",
       "25%         4.410371\n",
       "50%         4.714286\n",
       "75%         5.040000\n",
       "max        24.000000\n",
       "Name: avg_word_len, dtype: float64"
      ]
     },
     "execution_count": 6,
     "metadata": {},
     "output_type": "execute_result"
    }
   ],
   "source": [
    "df['avg_word_len'].describe()"
   ]
  },
  {
   "cell_type": "code",
   "execution_count": 7,
   "metadata": {},
   "outputs": [
    {
     "name": "stdout",
     "output_type": "stream",
     "text": [
      "https://news.ycombinator.com/item?id=10305855 \n",
      "\n",
      "http://voxinc.typepad.com/thecustomer/files/cheat_sheet.htm \n",
      "\n",
      "https://supporters.eff.org/donate \n",
      "\n",
      "https://en.wikipedia.org/wiki/Plaza_Accord \n",
      "\n",
      "https://www.youtube.com/watch?v=E3s-qZsjK8I \n",
      "\n",
      "http://ridetheclown.com/wp/saver2/ \n",
      "\n",
      "https://news.ycombinator.com/item?id=10207454 \n",
      "\n",
      "https://news.ycombinator.com/item?id=10307163 \n",
      "\n",
      "https://news.ycombinator.com/item?id=10295658 \n",
      "\n",
      "https://www.youtube.com/watch?v=5rQLLpgxjvs \n",
      "\n"
     ]
    }
   ],
   "source": [
    "# Examine comments with shortest average word lengths.\n",
    "for text in df.sort_values(by='avg_word_len')['text'].head(10):\n",
    "    print(text, '\\n')"
   ]
  },
  {
   "cell_type": "markdown",
   "metadata": {},
   "source": [
    "Excluding links, these comments have no words at all."
   ]
  },
  {
   "cell_type": "code",
   "execution_count": 8,
   "metadata": {},
   "outputs": [
    {
     "name": "stdout",
     "output_type": "stream",
     "text": [
      "www.cantheyseemydick.com \n",
      "\n",
      "pigeon@tutanota.com \n",
      "\n",
      "When i log in and view source I get back a little bit of json only {\"_id\":\"560ee464ba6b14a61c74de66\",\"name\":\"Untitled\",\"data\":null,\"ownerId\":\"560ee461ba6b14a61c74de65\",\"javascript\":\"\",\"__v\":0,\"opened\":\"2015-10-02T20:09:09.119Z\",\"modified\":\"2015-10-02T20:09:08.569Z\",\"created\":\"2015-10-02T20:09:08.569Z\",\"externalLibraries\":[]} how are you doing that ? \n",
      "\n",
      "Browser/version/OS? Thanks! \n",
      "\n",
      "That's a lot of code. curl -s \"https://en.wikipedia.org/w/api.php?action=parse&contentmodel=wikitext&format=json&redirects&explaintext&prop=text§ion=0&page=golang\" | jq .parse.text.\\\"*\\\" > temp.html; links temp.html (Scroll that). Not quite the same, but... \n",
      "\n",
      "How... unreadable. Congratulations Twitter? \n",
      "\n",
      "Examples, please. Particularly software innovations. \n",
      "\n",
      "Does anyone know how they did their chemistry representation? The entry at http://reference.wolfram.com/language/ref/ChemicalData.html for Aspartame has a charge separated SMILES of COC(=O)C(CC1=CC=CC=C1)NC(=O)C(CC(=O)[O-])[NH3+] and it's in Kekule form, without aromatics. By comparison, here are the (isomeric) SMILES from various other sources: Wikipedia: O=C(O)C[C@H](N)C(=O)N[C@H](C(=O)OC)Cc1ccccc1 ChEBI: COC(=O)[C@H](Cc1ccccc1)NC(=O)[C@@H](N)CC(O)=O ChEMBL: COC(=O)[C@H](Cc1ccccc1)NC(=O)[C@@H](N)CC(=O)O ChemSpider: COC(=O)[C@H](Cc1ccccc1)NC(=O)[C@H](CC(=O)O)N DrugBank: COC(=O)[C@H](CC1=CC=CC=C1)NC(=O)[C@@H](N)CC(O)=O PubChem: COC(=O)[C@H](CC1=CC=CC=C1)NC(=O)[C@H](CC(=O)O)N None of them used a charge-separated form, so Wolfram likely did some local processing of the structures. \n",
      "\n",
      "It's Interplanetary. \n",
      "\n",
      "Interesting, thanks. \n",
      "\n"
     ]
    }
   ],
   "source": [
    "# Examine comments with longest average word lengths.\n",
    "for text in df.sort_values(by='avg_word_len', ascending=False)['text'].head(10):\n",
    "    print(text, '\\n')"
   ]
  },
  {
   "cell_type": "code",
   "execution_count": 9,
   "metadata": {},
   "outputs": [
    {
     "data": {
      "text/html": [
       "<div>\n",
       "<style scoped>\n",
       "    .dataframe tbody tr th:only-of-type {\n",
       "        vertical-align: middle;\n",
       "    }\n",
       "\n",
       "    .dataframe tbody tr th {\n",
       "        vertical-align: top;\n",
       "    }\n",
       "\n",
       "    .dataframe thead th {\n",
       "        text-align: right;\n",
       "    }\n",
       "</style>\n",
       "<table border=\"1\" class=\"dataframe\">\n",
       "  <thead>\n",
       "    <tr style=\"text-align: right;\">\n",
       "      <th></th>\n",
       "      <th>id</th>\n",
       "      <th>parent</th>\n",
       "      <th>by</th>\n",
       "      <th>time</th>\n",
       "      <th>hour_posted</th>\n",
       "      <th>text</th>\n",
       "      <th>dead</th>\n",
       "      <th>ranking</th>\n",
       "      <th>text_len</th>\n",
       "      <th>pct_caps</th>\n",
       "      <th>...</th>\n",
       "      <th>papi_toxicity</th>\n",
       "      <th>v_neg</th>\n",
       "      <th>v_neu</th>\n",
       "      <th>v_pos</th>\n",
       "      <th>v_compound</th>\n",
       "      <th>tb_polarity</th>\n",
       "      <th>tb_subjectivity</th>\n",
       "      <th>tb_nb_prob_neg</th>\n",
       "      <th>pc_prob_offensive</th>\n",
       "      <th>avg_word_len</th>\n",
       "    </tr>\n",
       "  </thead>\n",
       "  <tbody>\n",
       "    <tr>\n",
       "      <td>0</td>\n",
       "      <td>10331981</td>\n",
       "      <td>10331895</td>\n",
       "      <td>debacle</td>\n",
       "      <td>2015-10-05 14:24:42+00:00</td>\n",
       "      <td>14</td>\n",
       "      <td>US is not really scared by BRICS at all. They'...</td>\n",
       "      <td>False</td>\n",
       "      <td>0</td>\n",
       "      <td>146</td>\n",
       "      <td>0.068493</td>\n",
       "      <td>...</td>\n",
       "      <td>0.100881</td>\n",
       "      <td>0.000</td>\n",
       "      <td>0.744</td>\n",
       "      <td>0.256</td>\n",
       "      <td>0.7859</td>\n",
       "      <td>0.156250</td>\n",
       "      <td>0.61875</td>\n",
       "      <td>0.080001</td>\n",
       "      <td>0.238871</td>\n",
       "      <td>4.653846</td>\n",
       "    </tr>\n",
       "    <tr>\n",
       "      <td>1</td>\n",
       "      <td>10343811</td>\n",
       "      <td>10343761</td>\n",
       "      <td>sarciszewski</td>\n",
       "      <td>2015-10-07 02:13:15+00:00</td>\n",
       "      <td>2</td>\n",
       "      <td>I wasn't really trying to argue, they said the...</td>\n",
       "      <td>False</td>\n",
       "      <td>0</td>\n",
       "      <td>76</td>\n",
       "      <td>0.013158</td>\n",
       "      <td>...</td>\n",
       "      <td>0.048637</td>\n",
       "      <td>0.195</td>\n",
       "      <td>0.805</td>\n",
       "      <td>0.000</td>\n",
       "      <td>-0.3947</td>\n",
       "      <td>0.200000</td>\n",
       "      <td>0.20000</td>\n",
       "      <td>0.593498</td>\n",
       "      <td>0.050161</td>\n",
       "      <td>4.923077</td>\n",
       "    </tr>\n",
       "    <tr>\n",
       "      <td>2</td>\n",
       "      <td>10331538</td>\n",
       "      <td>10331008</td>\n",
       "      <td>debacle</td>\n",
       "      <td>2015-10-05 13:08:10+00:00</td>\n",
       "      <td>13</td>\n",
       "      <td>The examples on the homepage kind of underscor...</td>\n",
       "      <td>False</td>\n",
       "      <td>12</td>\n",
       "      <td>88</td>\n",
       "      <td>0.034091</td>\n",
       "      <td>...</td>\n",
       "      <td>0.044777</td>\n",
       "      <td>0.000</td>\n",
       "      <td>0.864</td>\n",
       "      <td>0.136</td>\n",
       "      <td>0.2975</td>\n",
       "      <td>0.137500</td>\n",
       "      <td>0.50000</td>\n",
       "      <td>0.336201</td>\n",
       "      <td>0.098511</td>\n",
       "      <td>4.562500</td>\n",
       "    </tr>\n",
       "    <tr>\n",
       "      <td>3</td>\n",
       "      <td>10340097</td>\n",
       "      <td>10339965</td>\n",
       "      <td>debacle</td>\n",
       "      <td>2015-10-06 16:33:06+00:00</td>\n",
       "      <td>16</td>\n",
       "      <td>No mention of a critical aspect of a service l...</td>\n",
       "      <td>False</td>\n",
       "      <td>22</td>\n",
       "      <td>99</td>\n",
       "      <td>0.010101</td>\n",
       "      <td>...</td>\n",
       "      <td>0.035335</td>\n",
       "      <td>0.214</td>\n",
       "      <td>0.667</td>\n",
       "      <td>0.119</td>\n",
       "      <td>-0.2500</td>\n",
       "      <td>0.000000</td>\n",
       "      <td>0.80000</td>\n",
       "      <td>0.352414</td>\n",
       "      <td>0.056323</td>\n",
       "      <td>4.263158</td>\n",
       "    </tr>\n",
       "    <tr>\n",
       "      <td>4</td>\n",
       "      <td>10338552</td>\n",
       "      <td>10337763</td>\n",
       "      <td>debacle</td>\n",
       "      <td>2015-10-06 13:06:26+00:00</td>\n",
       "      <td>13</td>\n",
       "      <td>I think some of these points are gross exagger...</td>\n",
       "      <td>False</td>\n",
       "      <td>38</td>\n",
       "      <td>868</td>\n",
       "      <td>0.013825</td>\n",
       "      <td>...</td>\n",
       "      <td>0.232577</td>\n",
       "      <td>0.081</td>\n",
       "      <td>0.902</td>\n",
       "      <td>0.017</td>\n",
       "      <td>-0.8233</td>\n",
       "      <td>0.076667</td>\n",
       "      <td>0.26000</td>\n",
       "      <td>0.000790</td>\n",
       "      <td>0.001499</td>\n",
       "      <td>5.297101</td>\n",
       "    </tr>\n",
       "  </tbody>\n",
       "</table>\n",
       "<p>5 rows × 22 columns</p>\n",
       "</div>"
      ],
      "text/plain": [
       "         id    parent            by                       time  hour_posted  \\\n",
       "0  10331981  10331895       debacle  2015-10-05 14:24:42+00:00           14   \n",
       "1  10343811  10343761  sarciszewski  2015-10-07 02:13:15+00:00            2   \n",
       "2  10331538  10331008       debacle  2015-10-05 13:08:10+00:00           13   \n",
       "3  10340097  10339965       debacle  2015-10-06 16:33:06+00:00           16   \n",
       "4  10338552  10337763       debacle  2015-10-06 13:06:26+00:00           13   \n",
       "\n",
       "                                                text   dead  ranking  \\\n",
       "0  US is not really scared by BRICS at all. They'...  False        0   \n",
       "1  I wasn't really trying to argue, they said the...  False        0   \n",
       "2  The examples on the homepage kind of underscor...  False       12   \n",
       "3  No mention of a critical aspect of a service l...  False       22   \n",
       "4  I think some of these points are gross exagger...  False       38   \n",
       "\n",
       "   text_len  pct_caps  ...  papi_toxicity  v_neg  v_neu  v_pos  v_compound  \\\n",
       "0       146  0.068493  ...       0.100881  0.000  0.744  0.256      0.7859   \n",
       "1        76  0.013158  ...       0.048637  0.195  0.805  0.000     -0.3947   \n",
       "2        88  0.034091  ...       0.044777  0.000  0.864  0.136      0.2975   \n",
       "3        99  0.010101  ...       0.035335  0.214  0.667  0.119     -0.2500   \n",
       "4       868  0.013825  ...       0.232577  0.081  0.902  0.017     -0.8233   \n",
       "\n",
       "   tb_polarity  tb_subjectivity  tb_nb_prob_neg  pc_prob_offensive  \\\n",
       "0     0.156250          0.61875        0.080001           0.238871   \n",
       "1     0.200000          0.20000        0.593498           0.050161   \n",
       "2     0.137500          0.50000        0.336201           0.098511   \n",
       "3     0.000000          0.80000        0.352414           0.056323   \n",
       "4     0.076667          0.26000        0.000790           0.001499   \n",
       "\n",
       "   avg_word_len  \n",
       "0      4.653846  \n",
       "1      4.923077  \n",
       "2      4.562500  \n",
       "3      4.263158  \n",
       "4      5.297101  \n",
       "\n",
       "[5 rows x 22 columns]"
      ]
     },
     "execution_count": 9,
     "metadata": {},
     "output_type": "execute_result"
    }
   ],
   "source": [
    "df.head()"
   ]
  },
  {
   "cell_type": "code",
   "execution_count": 10,
   "metadata": {},
   "outputs": [],
   "source": [
    "candidates = ['hour_posted', 'text_len', 'avg_word_len', 'pct_caps', \n",
    "              'tags_per_char', \n",
    "              'v_neg', 'v_neu', 'v_pos', 'v_compound', \n",
    "              'tb_polarity', 'tb_subjectivity', 'tb_nb_prob_neg', \n",
    "              'pc_prob_offensive']"
   ]
  },
  {
   "cell_type": "code",
   "execution_count": 11,
   "metadata": {},
   "outputs": [],
   "source": [
    "X = df[candidates]\n",
    "y = df['papi_toxicity']"
   ]
  },
  {
   "cell_type": "code",
   "execution_count": 12,
   "metadata": {},
   "outputs": [],
   "source": [
    "X_train, X_test, y_train, y_test = train_test_split(X, y, train_size=0.8, random_state=0)"
   ]
  },
  {
   "cell_type": "code",
   "execution_count": 13,
   "metadata": {},
   "outputs": [],
   "source": [
    "scaler = MinMaxScaler()"
   ]
  },
  {
   "cell_type": "code",
   "execution_count": 14,
   "metadata": {},
   "outputs": [],
   "source": [
    "%%capture\n",
    "X_train[candidates] = scaler.fit_transform(X_train)"
   ]
  },
  {
   "cell_type": "code",
   "execution_count": 15,
   "metadata": {},
   "outputs": [
    {
     "data": {
      "text/html": [
       "<div>\n",
       "<style scoped>\n",
       "    .dataframe tbody tr th:only-of-type {\n",
       "        vertical-align: middle;\n",
       "    }\n",
       "\n",
       "    .dataframe tbody tr th {\n",
       "        vertical-align: top;\n",
       "    }\n",
       "\n",
       "    .dataframe thead th {\n",
       "        text-align: right;\n",
       "    }\n",
       "</style>\n",
       "<table border=\"1\" class=\"dataframe\">\n",
       "  <thead>\n",
       "    <tr style=\"text-align: right;\">\n",
       "      <th></th>\n",
       "      <th>hour_posted</th>\n",
       "      <th>text_len</th>\n",
       "      <th>avg_word_len</th>\n",
       "      <th>pct_caps</th>\n",
       "      <th>tags_per_char</th>\n",
       "      <th>v_neg</th>\n",
       "      <th>v_neu</th>\n",
       "      <th>v_pos</th>\n",
       "      <th>v_compound</th>\n",
       "      <th>tb_polarity</th>\n",
       "      <th>tb_subjectivity</th>\n",
       "      <th>tb_nb_prob_neg</th>\n",
       "      <th>pc_prob_offensive</th>\n",
       "    </tr>\n",
       "  </thead>\n",
       "  <tbody>\n",
       "    <tr>\n",
       "      <td>count</td>\n",
       "      <td>7976.000000</td>\n",
       "      <td>7976.000000</td>\n",
       "      <td>7976.000000</td>\n",
       "      <td>7976.000000</td>\n",
       "      <td>7976.000000</td>\n",
       "      <td>7976.000000</td>\n",
       "      <td>7976.000000</td>\n",
       "      <td>7976.000000</td>\n",
       "      <td>7976.000000</td>\n",
       "      <td>7976.000000</td>\n",
       "      <td>7976.000000</td>\n",
       "      <td>7976.000000</td>\n",
       "      <td>7976.000000</td>\n",
       "    </tr>\n",
       "    <tr>\n",
       "      <td>mean</td>\n",
       "      <td>0.593362</td>\n",
       "      <td>0.044762</td>\n",
       "      <td>0.249299</td>\n",
       "      <td>0.027973</td>\n",
       "      <td>0.027404</td>\n",
       "      <td>0.083194</td>\n",
       "      <td>0.827302</td>\n",
       "      <td>0.104272</td>\n",
       "      <td>0.571644</td>\n",
       "      <td>0.546508</td>\n",
       "      <td>0.450752</td>\n",
       "      <td>0.278648</td>\n",
       "      <td>0.068112</td>\n",
       "    </tr>\n",
       "    <tr>\n",
       "      <td>std</td>\n",
       "      <td>0.286732</td>\n",
       "      <td>0.053882</td>\n",
       "      <td>0.036856</td>\n",
       "      <td>0.027859</td>\n",
       "      <td>0.057738</td>\n",
       "      <td>0.100145</td>\n",
       "      <td>0.124401</td>\n",
       "      <td>0.106107</td>\n",
       "      <td>0.277975</td>\n",
       "      <td>0.103709</td>\n",
       "      <td>0.233298</td>\n",
       "      <td>0.292911</td>\n",
       "      <td>0.106917</td>\n",
       "    </tr>\n",
       "    <tr>\n",
       "      <td>min</td>\n",
       "      <td>0.000000</td>\n",
       "      <td>0.000000</td>\n",
       "      <td>0.000000</td>\n",
       "      <td>0.000000</td>\n",
       "      <td>0.000000</td>\n",
       "      <td>0.000000</td>\n",
       "      <td>0.000000</td>\n",
       "      <td>0.000000</td>\n",
       "      <td>0.000000</td>\n",
       "      <td>0.000000</td>\n",
       "      <td>0.000000</td>\n",
       "      <td>0.000000</td>\n",
       "      <td>0.000000</td>\n",
       "    </tr>\n",
       "    <tr>\n",
       "      <td>25%</td>\n",
       "      <td>0.391304</td>\n",
       "      <td>0.013973</td>\n",
       "      <td>0.232456</td>\n",
       "      <td>0.013885</td>\n",
       "      <td>0.000000</td>\n",
       "      <td>0.000000</td>\n",
       "      <td>0.763000</td>\n",
       "      <td>0.023000</td>\n",
       "      <td>0.363163</td>\n",
       "      <td>0.500000</td>\n",
       "      <td>0.339926</td>\n",
       "      <td>0.014155</td>\n",
       "      <td>0.010125</td>\n",
       "    </tr>\n",
       "    <tr>\n",
       "      <td>50%</td>\n",
       "      <td>0.652174</td>\n",
       "      <td>0.028059</td>\n",
       "      <td>0.248120</td>\n",
       "      <td>0.021277</td>\n",
       "      <td>0.000000</td>\n",
       "      <td>0.057247</td>\n",
       "      <td>0.838000</td>\n",
       "      <td>0.088000</td>\n",
       "      <td>0.576527</td>\n",
       "      <td>0.540000</td>\n",
       "      <td>0.475000</td>\n",
       "      <td>0.168870</td>\n",
       "      <td>0.039272</td>\n",
       "    </tr>\n",
       "    <tr>\n",
       "      <td>75%</td>\n",
       "      <td>0.826087</td>\n",
       "      <td>0.055095</td>\n",
       "      <td>0.265550</td>\n",
       "      <td>0.033613</td>\n",
       "      <td>0.039860</td>\n",
       "      <td>0.127893</td>\n",
       "      <td>0.909000</td>\n",
       "      <td>0.147000</td>\n",
       "      <td>0.815716</td>\n",
       "      <td>0.600000</td>\n",
       "      <td>0.585714</td>\n",
       "      <td>0.492991</td>\n",
       "      <td>0.084964</td>\n",
       "    </tr>\n",
       "    <tr>\n",
       "      <td>max</td>\n",
       "      <td>1.000000</td>\n",
       "      <td>1.000000</td>\n",
       "      <td>1.000000</td>\n",
       "      <td>1.000000</td>\n",
       "      <td>1.000000</td>\n",
       "      <td>1.000000</td>\n",
       "      <td>1.000000</td>\n",
       "      <td>1.000000</td>\n",
       "      <td>1.000000</td>\n",
       "      <td>1.000000</td>\n",
       "      <td>1.000000</td>\n",
       "      <td>1.000000</td>\n",
       "      <td>1.000000</td>\n",
       "    </tr>\n",
       "  </tbody>\n",
       "</table>\n",
       "</div>"
      ],
      "text/plain": [
       "       hour_posted     text_len  avg_word_len     pct_caps  tags_per_char  \\\n",
       "count  7976.000000  7976.000000   7976.000000  7976.000000    7976.000000   \n",
       "mean      0.593362     0.044762      0.249299     0.027973       0.027404   \n",
       "std       0.286732     0.053882      0.036856     0.027859       0.057738   \n",
       "min       0.000000     0.000000      0.000000     0.000000       0.000000   \n",
       "25%       0.391304     0.013973      0.232456     0.013885       0.000000   \n",
       "50%       0.652174     0.028059      0.248120     0.021277       0.000000   \n",
       "75%       0.826087     0.055095      0.265550     0.033613       0.039860   \n",
       "max       1.000000     1.000000      1.000000     1.000000       1.000000   \n",
       "\n",
       "             v_neg        v_neu        v_pos   v_compound  tb_polarity  \\\n",
       "count  7976.000000  7976.000000  7976.000000  7976.000000  7976.000000   \n",
       "mean      0.083194     0.827302     0.104272     0.571644     0.546508   \n",
       "std       0.100145     0.124401     0.106107     0.277975     0.103709   \n",
       "min       0.000000     0.000000     0.000000     0.000000     0.000000   \n",
       "25%       0.000000     0.763000     0.023000     0.363163     0.500000   \n",
       "50%       0.057247     0.838000     0.088000     0.576527     0.540000   \n",
       "75%       0.127893     0.909000     0.147000     0.815716     0.600000   \n",
       "max       1.000000     1.000000     1.000000     1.000000     1.000000   \n",
       "\n",
       "       tb_subjectivity  tb_nb_prob_neg  pc_prob_offensive  \n",
       "count      7976.000000     7976.000000        7976.000000  \n",
       "mean          0.450752        0.278648           0.068112  \n",
       "std           0.233298        0.292911           0.106917  \n",
       "min           0.000000        0.000000           0.000000  \n",
       "25%           0.339926        0.014155           0.010125  \n",
       "50%           0.475000        0.168870           0.039272  \n",
       "75%           0.585714        0.492991           0.084964  \n",
       "max           1.000000        1.000000           1.000000  "
      ]
     },
     "execution_count": 15,
     "metadata": {},
     "output_type": "execute_result"
    }
   ],
   "source": [
    "X_train.describe()"
   ]
  },
  {
   "cell_type": "code",
   "execution_count": 16,
   "metadata": {},
   "outputs": [],
   "source": [
    "%%capture\n",
    "X_test[candidates] = scaler.transform(X_test)"
   ]
  },
  {
   "cell_type": "markdown",
   "metadata": {},
   "source": [
    "## F-scores"
   ]
  },
  {
   "cell_type": "code",
   "execution_count": 17,
   "metadata": {},
   "outputs": [],
   "source": [
    "best = SelectKBest(score_func=f_regression, k='all')"
   ]
  },
  {
   "cell_type": "code",
   "execution_count": 18,
   "metadata": {},
   "outputs": [],
   "source": [
    "fit = best.fit(X_train, y_train)"
   ]
  },
  {
   "cell_type": "code",
   "execution_count": 19,
   "metadata": {},
   "outputs": [
    {
     "data": {
      "text/html": [
       "<div>\n",
       "<style scoped>\n",
       "    .dataframe tbody tr th:only-of-type {\n",
       "        vertical-align: middle;\n",
       "    }\n",
       "\n",
       "    .dataframe tbody tr th {\n",
       "        vertical-align: top;\n",
       "    }\n",
       "\n",
       "    .dataframe thead th {\n",
       "        text-align: right;\n",
       "    }\n",
       "</style>\n",
       "<table border=\"1\" class=\"dataframe\">\n",
       "  <thead>\n",
       "    <tr style=\"text-align: right;\">\n",
       "      <th></th>\n",
       "      <th>Feature</th>\n",
       "      <th>F-Score</th>\n",
       "    </tr>\n",
       "  </thead>\n",
       "  <tbody>\n",
       "    <tr>\n",
       "      <td>12</td>\n",
       "      <td>pc_prob_offensive</td>\n",
       "      <td>2923.899184</td>\n",
       "    </tr>\n",
       "    <tr>\n",
       "      <td>5</td>\n",
       "      <td>v_neg</td>\n",
       "      <td>1126.648971</td>\n",
       "    </tr>\n",
       "    <tr>\n",
       "      <td>8</td>\n",
       "      <td>v_compound</td>\n",
       "      <td>606.650239</td>\n",
       "    </tr>\n",
       "    <tr>\n",
       "      <td>9</td>\n",
       "      <td>tb_polarity</td>\n",
       "      <td>249.135958</td>\n",
       "    </tr>\n",
       "    <tr>\n",
       "      <td>6</td>\n",
       "      <td>v_neu</td>\n",
       "      <td>224.771518</td>\n",
       "    </tr>\n",
       "    <tr>\n",
       "      <td>1</td>\n",
       "      <td>text_len</td>\n",
       "      <td>163.890759</td>\n",
       "    </tr>\n",
       "    <tr>\n",
       "      <td>10</td>\n",
       "      <td>tb_subjectivity</td>\n",
       "      <td>107.558141</td>\n",
       "    </tr>\n",
       "    <tr>\n",
       "      <td>7</td>\n",
       "      <td>v_pos</td>\n",
       "      <td>48.318749</td>\n",
       "    </tr>\n",
       "    <tr>\n",
       "      <td>3</td>\n",
       "      <td>pct_caps</td>\n",
       "      <td>23.393416</td>\n",
       "    </tr>\n",
       "    <tr>\n",
       "      <td>11</td>\n",
       "      <td>tb_nb_prob_neg</td>\n",
       "      <td>15.378748</td>\n",
       "    </tr>\n",
       "    <tr>\n",
       "      <td>0</td>\n",
       "      <td>hour_posted</td>\n",
       "      <td>6.816603</td>\n",
       "    </tr>\n",
       "    <tr>\n",
       "      <td>4</td>\n",
       "      <td>tags_per_char</td>\n",
       "      <td>0.946852</td>\n",
       "    </tr>\n",
       "    <tr>\n",
       "      <td>2</td>\n",
       "      <td>avg_word_len</td>\n",
       "      <td>0.483130</td>\n",
       "    </tr>\n",
       "  </tbody>\n",
       "</table>\n",
       "</div>"
      ],
      "text/plain": [
       "              Feature      F-Score\n",
       "12  pc_prob_offensive  2923.899184\n",
       "5               v_neg  1126.648971\n",
       "8          v_compound   606.650239\n",
       "9         tb_polarity   249.135958\n",
       "6               v_neu   224.771518\n",
       "1            text_len   163.890759\n",
       "10    tb_subjectivity   107.558141\n",
       "7               v_pos    48.318749\n",
       "3            pct_caps    23.393416\n",
       "11     tb_nb_prob_neg    15.378748\n",
       "0         hour_posted     6.816603\n",
       "4       tags_per_char     0.946852\n",
       "2        avg_word_len     0.483130"
      ]
     },
     "execution_count": 19,
     "metadata": {},
     "output_type": "execute_result"
    }
   ],
   "source": [
    "dfscores = pd.DataFrame(fit.scores_)\n",
    "dfcolumns = pd.DataFrame(X_train.columns)\n",
    "\n",
    "#concat two dataframes for better visualization \n",
    "featureScores = pd.concat([dfcolumns,dfscores],axis=1)\n",
    "featureScores.columns = ['Feature', 'F-Score']  #naming the dataframe columns\n",
    "featureScores.sort_values('F-Score', ascending=False)"
   ]
  },
  {
   "cell_type": "code",
   "execution_count": 20,
   "metadata": {},
   "outputs": [
    {
     "data": {
      "text/plain": [
       "(7976,)"
      ]
     },
     "execution_count": 20,
     "metadata": {},
     "output_type": "execute_result"
    }
   ],
   "source": [
    "y_train.shape"
   ]
  },
  {
   "cell_type": "markdown",
   "metadata": {},
   "source": [
    "## Recursive Feature Elimination"
   ]
  },
  {
   "cell_type": "code",
   "execution_count": 21,
   "metadata": {},
   "outputs": [],
   "source": [
    "model = LinearRegression()"
   ]
  },
  {
   "cell_type": "code",
   "execution_count": 22,
   "metadata": {},
   "outputs": [
    {
     "name": "stdout",
     "output_type": "stream",
     "text": [
      "Num Features: 5\n",
      "Selected Features: [False  True False  True  True  True False False False False False False\n",
      "  True]\n",
      "Feature Ranking: [6 1 7 1 1 1 8 5 4 2 3 9 1]\n"
     ]
    },
    {
     "data": {
      "text/plain": [
       "Index(['text_len', 'pct_caps', 'tags_per_char', 'v_neg', 'pc_prob_offensive'], dtype='object')"
      ]
     },
     "execution_count": 22,
     "metadata": {},
     "output_type": "execute_result"
    }
   ],
   "source": [
    "rfe = RFE(model, 5)\n",
    "fit = rfe.fit(X_train, y_train)\n",
    "print(\"Num Features: %s\" % (fit.n_features_))\n",
    "print(\"Selected Features: %s\" % (fit.support_))\n",
    "print(\"Feature Ranking: %s\" % (fit.ranking_))\n",
    "X_train.columns[fit.support_]"
   ]
  },
  {
   "cell_type": "code",
   "execution_count": 23,
   "metadata": {},
   "outputs": [
    {
     "name": "stdout",
     "output_type": "stream",
     "text": [
      "Num Features: 4\n",
      "Selected Features: [False  True False  True False  True False False False False False False\n",
      "  True]\n",
      "Feature Ranking: [ 7  1  8  1  2  1  9  6  5  3  4 10  1]\n"
     ]
    },
    {
     "data": {
      "text/plain": [
       "Index(['text_len', 'pct_caps', 'v_neg', 'pc_prob_offensive'], dtype='object')"
      ]
     },
     "execution_count": 23,
     "metadata": {},
     "output_type": "execute_result"
    }
   ],
   "source": [
    "rfe = RFE(model, 4)\n",
    "fit = rfe.fit(X_train, y_train)\n",
    "print(\"Num Features: %s\" % (fit.n_features_))\n",
    "print(\"Selected Features: %s\" % (fit.support_))\n",
    "print(\"Feature Ranking: %s\" % (fit.ranking_))\n",
    "X_train.columns[fit.support_]"
   ]
  },
  {
   "cell_type": "code",
   "execution_count": 24,
   "metadata": {},
   "outputs": [
    {
     "name": "stdout",
     "output_type": "stream",
     "text": [
      "Num Features: 3\n",
      "Selected Features: [False  True False False False  True False False False False False False\n",
      "  True]\n",
      "Feature Ranking: [ 8  1  9  2  3  1 10  7  6  4  5 11  1]\n"
     ]
    },
    {
     "data": {
      "text/plain": [
       "Index(['text_len', 'v_neg', 'pc_prob_offensive'], dtype='object')"
      ]
     },
     "execution_count": 24,
     "metadata": {},
     "output_type": "execute_result"
    }
   ],
   "source": [
    "rfe = RFE(model, 3)\n",
    "fit = rfe.fit(X_train, y_train)\n",
    "print(\"Num Features: %s\" % (fit.n_features_))\n",
    "print(\"Selected Features: %s\" % (fit.support_))\n",
    "print(\"Feature Ranking: %s\" % (fit.ranking_))\n",
    "X_train.columns[fit.support_]"
   ]
  },
  {
   "cell_type": "code",
   "execution_count": 25,
   "metadata": {},
   "outputs": [],
   "source": [
    "features = ['text_len', 'v_neg', 'pc_prob_offensive']"
   ]
  },
  {
   "cell_type": "markdown",
   "metadata": {},
   "source": [
    "## Linear Regression"
   ]
  },
  {
   "cell_type": "code",
   "execution_count": 26,
   "metadata": {},
   "outputs": [
    {
     "data": {
      "text/plain": [
       "LinearRegression(copy_X=True, fit_intercept=True, n_jobs=None, normalize=False)"
      ]
     },
     "execution_count": 26,
     "metadata": {},
     "output_type": "execute_result"
    }
   ],
   "source": [
    "model.fit(X_train[features], y_train)"
   ]
  },
  {
   "cell_type": "code",
   "execution_count": 27,
   "metadata": {},
   "outputs": [],
   "source": [
    "pred_train = model.predict(X_train[features])"
   ]
  },
  {
   "cell_type": "code",
   "execution_count": 28,
   "metadata": {},
   "outputs": [
    {
     "data": {
      "text/html": [
       "<div>\n",
       "<style scoped>\n",
       "    .dataframe tbody tr th:only-of-type {\n",
       "        vertical-align: middle;\n",
       "    }\n",
       "\n",
       "    .dataframe tbody tr th {\n",
       "        vertical-align: top;\n",
       "    }\n",
       "\n",
       "    .dataframe thead th {\n",
       "        text-align: right;\n",
       "    }\n",
       "</style>\n",
       "<table border=\"1\" class=\"dataframe\">\n",
       "  <thead>\n",
       "    <tr style=\"text-align: right;\">\n",
       "      <th></th>\n",
       "      <th>0</th>\n",
       "    </tr>\n",
       "  </thead>\n",
       "  <tbody>\n",
       "    <tr>\n",
       "      <td>count</td>\n",
       "      <td>7976.000000</td>\n",
       "    </tr>\n",
       "    <tr>\n",
       "      <td>mean</td>\n",
       "      <td>0.150089</td>\n",
       "    </tr>\n",
       "    <tr>\n",
       "      <td>std</td>\n",
       "      <td>0.085147</td>\n",
       "    </tr>\n",
       "    <tr>\n",
       "      <td>min</td>\n",
       "      <td>0.062677</td>\n",
       "    </tr>\n",
       "    <tr>\n",
       "      <td>25%</td>\n",
       "      <td>0.102857</td>\n",
       "    </tr>\n",
       "    <tr>\n",
       "      <td>50%</td>\n",
       "      <td>0.127615</td>\n",
       "    </tr>\n",
       "    <tr>\n",
       "      <td>75%</td>\n",
       "      <td>0.166680</td>\n",
       "    </tr>\n",
       "    <tr>\n",
       "      <td>max</td>\n",
       "      <td>0.918178</td>\n",
       "    </tr>\n",
       "  </tbody>\n",
       "</table>\n",
       "</div>"
      ],
      "text/plain": [
       "                 0\n",
       "count  7976.000000\n",
       "mean      0.150089\n",
       "std       0.085147\n",
       "min       0.062677\n",
       "25%       0.102857\n",
       "50%       0.127615\n",
       "75%       0.166680\n",
       "max       0.918178"
      ]
     },
     "execution_count": 28,
     "metadata": {},
     "output_type": "execute_result"
    }
   ],
   "source": [
    "pd.DataFrame(pred_train).describe()"
   ]
  },
  {
   "cell_type": "code",
   "execution_count": 29,
   "metadata": {},
   "outputs": [],
   "source": [
    "pred_test = model.predict(X_test[features])"
   ]
  },
  {
   "cell_type": "code",
   "execution_count": 30,
   "metadata": {},
   "outputs": [
    {
     "name": "stdout",
     "output_type": "stream",
     "text": [
      "Train MAE:  0.07648005868977967\n",
      "Test MAE:  0.07573983132555266\n"
     ]
    }
   ],
   "source": [
    "print('Train MAE: ', mean_absolute_error(pred_train, y_train))\n",
    "print('Test MAE: ', mean_absolute_error(pred_test, y_test))"
   ]
  },
  {
   "cell_type": "code",
   "execution_count": 31,
   "metadata": {},
   "outputs": [
    {
     "data": {
      "text/plain": [
       "count    7976.000000\n",
       "mean        0.150089\n",
       "std         0.138293\n",
       "min         0.004981\n",
       "25%         0.066070\n",
       "50%         0.102494\n",
       "75%         0.188944\n",
       "max         0.976457\n",
       "Name: papi_toxicity, dtype: float64"
      ]
     },
     "execution_count": 31,
     "metadata": {},
     "output_type": "execute_result"
    }
   ],
   "source": [
    "# Is that a lot of error or a little, given the scale and\n",
    "# variance of our target variable?\n",
    "y_train.describe()"
   ]
  },
  {
   "cell_type": "code",
   "execution_count": 32,
   "metadata": {},
   "outputs": [],
   "source": [
    "# What about compared to a baseline baseline model, just predicting \n",
    "# the mean toxicity?\n",
    "mean_pred_train = np.full_like(y_train, y_train.mean())\n",
    "mean_pred_test = np.full_like(y_test, y_train.mean())"
   ]
  },
  {
   "cell_type": "code",
   "execution_count": 33,
   "metadata": {},
   "outputs": [
    {
     "name": "stdout",
     "output_type": "stream",
     "text": [
      "Train MAE (predicting mean):  0.09738346823118572\n",
      "Test MAE (predicting mean):  0.09508224118804677\n"
     ]
    }
   ],
   "source": [
    "print('Train MAE (predicting mean): ', mean_absolute_error(mean_pred_train, y_train))\n",
    "print('Test MAE (predicting mean): ', mean_absolute_error(mean_pred_test, y_test))"
   ]
  },
  {
   "cell_type": "markdown",
   "metadata": {},
   "source": [
    "## Logistic Regression"
   ]
  },
  {
   "cell_type": "code",
   "execution_count": 34,
   "metadata": {},
   "outputs": [],
   "source": [
    "# Convert PerspectiveAPI toxicity scores to binary class labels.\n",
    "y_train_binary = (y_train > 0.7).astype(int)\n",
    "y_test_binary = (y_test > 0.7).astype(int)"
   ]
  },
  {
   "cell_type": "code",
   "execution_count": 35,
   "metadata": {},
   "outputs": [
    {
     "data": {
      "text/plain": [
       "0    0.989594\n",
       "1    0.010406\n",
       "Name: papi_toxicity, dtype: float64"
      ]
     },
     "execution_count": 35,
     "metadata": {},
     "output_type": "execute_result"
    }
   ],
   "source": [
    "# Examine class balance in training dataset.\n",
    "y_train_binary.value_counts(normalize=True)"
   ]
  },
  {
   "cell_type": "code",
   "execution_count": 36,
   "metadata": {},
   "outputs": [],
   "source": [
    "model = LogisticRegression(class_weight='balanced')"
   ]
  },
  {
   "cell_type": "code",
   "execution_count": 37,
   "metadata": {},
   "outputs": [
    {
     "name": "stderr",
     "output_type": "stream",
     "text": [
      "C:\\Users\\aloha\\Anaconda3\\lib\\site-packages\\sklearn\\linear_model\\logistic.py:432: FutureWarning: Default solver will be changed to 'lbfgs' in 0.22. Specify a solver to silence this warning.\n",
      "  FutureWarning)\n"
     ]
    },
    {
     "data": {
      "text/plain": [
       "LogisticRegression(C=1.0, class_weight='balanced', dual=False,\n",
       "                   fit_intercept=True, intercept_scaling=1, l1_ratio=None,\n",
       "                   max_iter=100, multi_class='warn', n_jobs=None, penalty='l2',\n",
       "                   random_state=None, solver='warn', tol=0.0001, verbose=0,\n",
       "                   warm_start=False)"
      ]
     },
     "execution_count": 37,
     "metadata": {},
     "output_type": "execute_result"
    }
   ],
   "source": [
    "model.fit(X_train[features], y_train_binary)"
   ]
  },
  {
   "cell_type": "code",
   "execution_count": 38,
   "metadata": {},
   "outputs": [],
   "source": [
    "pred_train = model.predict(X_train[features])\n",
    "pred_test = model.predict(X_test[features])"
   ]
  },
  {
   "cell_type": "code",
   "execution_count": 39,
   "metadata": {},
   "outputs": [
    {
     "data": {
      "text/plain": [
       "array([7493,  483], dtype=int64)"
      ]
     },
     "execution_count": 39,
     "metadata": {},
     "output_type": "execute_result"
    }
   ],
   "source": [
    "np.bincount(pred_train)"
   ]
  },
  {
   "cell_type": "code",
   "execution_count": 40,
   "metadata": {},
   "outputs": [],
   "source": [
    "# Calculate metrics on training dataset.\n",
    "train_accuracy = accuracy_score(y_train_binary, pred_train)\n",
    "train_recall = recall_score(y_train_binary, pred_train)\n",
    "train_precision = precision_score(y_train_binary, pred_train)\n",
    "\n",
    "# Calculate metrics on test dataset.\n",
    "test_accuracy = accuracy_score(y_test_binary, pred_test)\n",
    "test_recall = recall_score(y_test_binary, pred_test)\n",
    "test_precision = precision_score(y_test_binary, pred_test)"
   ]
  },
  {
   "cell_type": "code",
   "execution_count": 41,
   "metadata": {},
   "outputs": [
    {
     "name": "stdout",
     "output_type": "stream",
     "text": [
      "Train accuracy: 0.9468\n",
      "Train recall: 0.8554\n",
      "Train precision: 0.1470 \n",
      "\n",
      "Test accuracy: 0.9498\n",
      "Test recall: 0.7000\n",
      "Test precision: 0.1296\n"
     ]
    }
   ],
   "source": [
    "# Display metrics for training dataset.\n",
    "print(f'Train accuracy: {train_accuracy:.4f}')\n",
    "print(f'Train recall: {train_recall:.4f}')\n",
    "print(f'Train precision: {train_precision:.4f}', '\\n')\n",
    "\n",
    "# Display metrics for test dataset.\n",
    "print(f'Test accuracy: {test_accuracy:.4f}')\n",
    "print(f'Test recall: {test_recall:.4f}')\n",
    "print(f'Test precision: {test_precision:.4f}')"
   ]
  }
 ],
 "metadata": {
  "kernelspec": {
   "display_name": "Python 3",
   "language": "python",
   "name": "python3"
  },
  "language_info": {
   "codemirror_mode": {
    "name": "ipython",
    "version": 3
   },
   "file_extension": ".py",
   "mimetype": "text/x-python",
   "name": "python",
   "nbconvert_exporter": "python",
   "pygments_lexer": "ipython3",
   "version": "3.7.4"
  }
 },
 "nbformat": 4,
 "nbformat_minor": 2
}
