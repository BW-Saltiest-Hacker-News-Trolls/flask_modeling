{
 "cells": [
  {
   "cell_type": "code",
   "execution_count": null,
   "metadata": {},
   "outputs": [],
   "source": [
    "import pandas as pd\n",
    "\n",
    "from google.cloud import bigquery\n",
    "from google.oauth2 import service_account"
   ]
  },
  {
   "cell_type": "code",
   "execution_count": null,
   "metadata": {},
   "outputs": [],
   "source": [
    "# Add credentials file name/path here.\n",
    "client = bigquery.Client.from_service_account_json('')"
   ]
  },
  {
   "cell_type": "code",
   "execution_count": null,
   "metadata": {},
   "outputs": [],
   "source": [
    "query = ('SELECT * '\n",
    "         'FROM (SELECT `by` as user_id, COUNT(*) AS num_comments '\n",
    "         'FROM `bigquery-public-data.hacker_news.comments` '\n",
    "         'WHERE `by` IS NOT NULL '\n",
    "         'AND EXTRACT(YEAR FROM time_ts) = 2015 '\n",
    "         'AND EXTRACT(MONTH FROM time_ts) = 10 '\n",
    "         'AND EXTRACT(DAY FROM time_ts) < 8 '\n",
    "         'GROUP BY `by` '\n",
    "         'ORDER BY num_comments DESC '\n",
    "         'LIMIT 400) users '\n",
    "         'INNER JOIN `bigquery-public-data.hacker_news.comments` comments '\n",
    "         'ON user_id = `by` '\n",
    "         'WHERE EXTRACT(YEAR FROM time_ts) = 2015 '\n",
    "         'AND EXTRACT(MONTH FROM time_ts) = 10 '\n",
    "         'AND EXTRACT(DAY FROM time_ts) < 8;'\n",
    "        )"
   ]
  },
  {
   "cell_type": "code",
   "execution_count": null,
   "metadata": {},
   "outputs": [],
   "source": [
    "query_job = client.query(query)\n",
    "\n",
    "iterator = query_job.result(timeout=120)\n",
    "rows = list(iterator)"
   ]
  },
  {
   "cell_type": "code",
   "execution_count": null,
   "metadata": {},
   "outputs": [],
   "source": [
    "# Transform the rows into a nice pandas dataframe.\n",
    "df = pd.DataFrame(data=[list(x.values()) for x in rows], columns=list(rows[0].keys()))\n",
    "df = df.drop(['user_id', 'num_comments'], axis=1)\n",
    "\n",
    "# Look at the most prolific 10 commenters.\n",
    "df.head(10)"
   ]
  },
  {
   "cell_type": "code",
   "execution_count": null,
   "metadata": {},
   "outputs": [],
   "source": [
    "df.shape"
   ]
  },
  {
   "cell_type": "code",
   "execution_count": null,
   "metadata": {},
   "outputs": [],
   "source": [
    "df.to_csv('first_week_oct_2015_comments_by_top_400.csv', index=False)"
   ]
  }
 ],
 "metadata": {
  "kernelspec": {
   "display_name": "Python 3",
   "language": "python",
   "name": "python3"
  },
  "language_info": {
   "codemirror_mode": {
    "name": "ipython",
    "version": 3
   },
   "file_extension": ".py",
   "mimetype": "text/x-python",
   "name": "python",
   "nbconvert_exporter": "python",
   "pygments_lexer": "ipython3",
   "version": "3.7.4"
  }
 },
 "nbformat": 4,
 "nbformat_minor": 2
}
